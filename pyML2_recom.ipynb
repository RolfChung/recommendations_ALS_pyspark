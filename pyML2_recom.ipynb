{
 "cells": [
  {
   "cell_type": "markdown",
   "metadata": {},
   "source": [
    "# Summmary\n",
    "\n",
    "\n",
    "<p>\n",
    "The goal of this project is to develop collaborative filtering models applying the Pyspark implementation of the Alternating Least Squares (ALS) algorithm to the Amazon consumer review data set and the movie ratings data set. The pyspark.mllib.recommendation module offers amazing methods\n",
    "to give actual recommendations for individual users or products. The methods are the main focus here and the models developed here are not hyper tuned to get better outcomes.\n",
    "</p>\n",
    "\n",
    "<p>\n",
    "Alternating Least Squares (ALS) is an algorithm widely used for collaborative filtering. The aim is to find users with common interests (products, clubs, activities ...). Recommendations are based on the “birds of a feather flock together”-assumption that people who share an opinion on one topic are more likely to share again an opinion on another new independent topic than with a random third person.</p> \n",
    "\n",
    "<p>\n",
    "According to the \n",
    "<a href=\"https://spark.apache.org/docs/latest/mllib-collaborative-filtering.html\" target=\"_blank\">documentation</a> the implementation in spark.mllib has the following and other parameters: \n",
    "<p>\n",
    "    \n",
    "<ul>\n",
    "<li>numBlocks is the number of blocks used to parallelize computation (set to -1 to auto-configure).</li>\n",
    "<li>rank is the number of features to use (also referred to as the number of latent factors).</li>\n",
    "<li>iterations is the number of iterations of ALS to run. ALS typically converges to a reasonable solution in 20 iterations or less.</li>\n",
    "</ul> \n",
    "\n",
    "<p>\n",
    "In the project are different tasks of data exploration and preparation carried out confirming the commonplace that 80 percent (or so) of all\n",
    "Data Science is data cleaning. Using the Pyspark implementation \n",
    "of Apache Spark it is helpful to remind yourself that the various API's\n",
    "are addressed with specific types of languages. The SQL-API is using of course SQL and the data frames and RDDs objects are employing different\n",
    "domain specific languages.\n",
    "</p> \n",
    "\n",
    "\n",
    "<p>\n",
    "<h2>Spark system architecture</h2>\n",
    "</p> \n",
    "\n",
    "\n",
    "\n",
    "<img src=\"spark_achitecture.png\" alt=\"Smiley face\" align=\"left\"  style=\"margin-left: 0px; margin-right: 0px; margin-top: 20px; margin-bottom: 20px; float: left; width: 800px; height: 300px\"> \n"
   ]
  },
  {
   "cell_type": "markdown",
   "metadata": {},
   "source": [
    "# Import packages"
   ]
  },
  {
   "cell_type": "code",
   "execution_count": 1574,
   "metadata": {},
   "outputs": [],
   "source": [
    "# IPython\n",
    "from IPython.display import display, HTML, display_html \n",
    "#usefull to display wide tables\n",
    "\n",
    "# base packages\n",
    "import numpy as np\n",
    "import pandas as pd\n",
    "import math\n",
    "import random\n",
    "import pathlib\n",
    "import inspect\n",
    "from datetime import datetime\n",
    "\n",
    "# sklearn\n",
    "from sklearn import preprocessing\n",
    "\n",
    "# pyspark\n",
    "from pyspark.sql import DataFrame\n",
    "from pyspark.rdd import RDD\n",
    "from pyspark.sql.types import StructType, StructField, IntegerType, \\\n",
    "StringType, BooleanType, DateType, FloatType\n",
    "from pyspark.sql.functions import lower, col\n",
    "from pyspark.sql import SparkSession\n",
    "from pyspark.rdd import RDD\n",
    "from pyspark.sql.functions import mean, stddev , col, avg, round\n",
    "from pyspark.sql.types import IntegerType, FloatType\n",
    "from pyspark.sql.functions import *\n",
    "import pyspark.sql.functions as F\n",
    "from pyspark.sql.functions import isnan\n",
    "\n",
    "# machine learning in spark has got different libraries\n",
    "# for different data objects\n",
    "\n",
    "# machine learning on dataframes\n",
    "# is based on pyspark.ml\n",
    "from pyspark.ml.clustering import KMeans\n",
    "from pyspark.ml.feature import VectorAssembler\n",
    "\n",
    "# machine learning on RDDs\n",
    "# is based pyspark.mllib\n",
    "from pyspark.mllib.classification import LogisticRegressionWithLBFGS\n",
    "from pyspark.mllib.clustering import KMeans\n",
    "\n",
    "# Collaborative Filtering - RDD-based API\n",
    "# https://spark.apache.org/docs/latest/mllib-collaborative-filtering.html\n",
    "from pyspark.mllib.recommendation import ALS, MatrixFactorizationModel, Rating\n",
    "\n",
    "# data visualization\n",
    "import matplotlib.pyplot as plt\n",
    "%matplotlib inline\n",
    "import seaborn as sns\n",
    "\n",
    "from pyspark_dist_explore import Histogram, hist, distplot, \\\n",
    "pandas_histogram\n",
    "\n",
    "from handyspark import *"
   ]
  },
  {
   "cell_type": "markdown",
   "metadata": {},
   "source": [
    "# Inspect working directory"
   ]
  },
  {
   "cell_type": "code",
   "execution_count": 1575,
   "metadata": {},
   "outputs": [],
   "source": [
    "cwd = os.getcwd()\n",
    "# print(cwd)\n",
    "\n",
    "cwd_path = pathlib.Path.cwd()\n",
    "# print(cwd_path)\n",
    "\n",
    "home_path = pathlib.Path.home()\n",
    "# print(home_path)"
   ]
  },
  {
   "cell_type": "markdown",
   "metadata": {},
   "source": [
    "# Spark"
   ]
  },
  {
   "cell_type": "markdown",
   "metadata": {},
   "source": [
    "### Spark context"
   ]
  },
  {
   "cell_type": "code",
   "execution_count": 1576,
   "metadata": {},
   "outputs": [
    {
     "name": "stdout",
     "output_type": "stream",
     "text": [
      "Spark version: 3.0.0-preview\n",
      "Python version: 3.7\n",
      "Spark master: local[*]\n",
      "Application name: PySparkShell\n",
      "Parllelism: 4\n"
     ]
    }
   ],
   "source": [
    "print(\"Spark version: {}\".format(sc.version))\n",
    "print(\"Python version: {}\".format(sc.pythonVer))\n",
    "print(\"Spark master: {}\".format(sc.master))\n",
    "# print(\"Spark user: {}\".format(sc.sparkUser))\n",
    "print(\"Application name: {}\".format(sc.appName))\n",
    "# print(\"Application id: {}\".format(sc.applicationId))\n",
    "print(\"Parllelism: {}\".format(sc.defaultParallelism))\n"
   ]
  },
  {
   "cell_type": "markdown",
   "metadata": {},
   "source": [
    "### Spark session"
   ]
  },
  {
   "cell_type": "code",
   "execution_count": 1577,
   "metadata": {},
   "outputs": [
    {
     "name": "stdout",
     "output_type": "stream",
     "text": [
      "<pyspark.sql.session.SparkSession object at 0x0000020B9175D9C8>\n",
      "default\n",
      "[]\n"
     ]
    }
   ],
   "source": [
    "spark_session = SparkSession.builder.getOrCreate()\n",
    "print(spark_session)\n",
    "print(spark_session.catalog.currentDatabase())\n",
    "print(spark_session.catalog.listTables())"
   ]
  },
  {
   "cell_type": "markdown",
   "metadata": {},
   "source": [
    "# Amazon consumer review data set"
   ]
  },
  {
   "cell_type": "markdown",
   "metadata": {},
   "source": [
    "\n",
    "<p>\n",
    "The data set used here is a queried subset of the\n",
    "</p>\n",
    "\n",
    "<p>\n",
    "Datafiniti_Amazon_Consumer_Reviews_of_Amazon_Products.csv.\n",
    "</p> \n",
    "\n",
    "<p>\n",
    "This dataset is a list of 5,000 consumer reviews for Amazon products like the Kindle, Fire TV Stick, and more from Datafiniti's Product Database updated between September \n",
    "2017 to October 2018.\n",
    "</p> \n",
    "\n",
    "<p>\n",
    "It is taken from \n",
    "<a href=\"https://data.world/\" target=\"_blank\">data world</a>.\n",
    "</p>"
   ]
  },
  {
   "cell_type": "code",
   "execution_count": 1578,
   "metadata": {},
   "outputs": [],
   "source": [
    "\n",
    "amazon_schema = \\\n",
    "StructType([    \n",
    "    \n",
    "    StructField('id', StringType(), True),\n",
    "    StructField('dateadded', StringType(), True),\n",
    "    StructField('name', StringType(), True),\n",
    "    StructField('reviews_date', StringType(), True),\n",
    "    StructField('reviews_rating', IntegerType(), True), \n",
    "    StructField('reviews_username', StringType(), True)\n",
    "\n",
    "])\n"
   ]
  },
  {
   "cell_type": "code",
   "execution_count": 1579,
   "metadata": {},
   "outputs": [],
   "source": [
    "amazon = \\\n",
    "spark.read.csv(\"amazon_query_3.csv\", \n",
    "               inferSchema=True, \n",
    "               header=True,\n",
    "               schema=amazon_schema)\n",
    "\n"
   ]
  },
  {
   "cell_type": "markdown",
   "metadata": {},
   "source": [
    "### Data exploration and preparation"
   ]
  },
  {
   "cell_type": "code",
   "execution_count": 1580,
   "metadata": {},
   "outputs": [
    {
     "name": "stdout",
     "output_type": "stream",
     "text": [
      "<class 'pyspark.sql.dataframe.DataFrame'>\n",
      "\n",
      "['id', 'dateadded', 'name', 'reviews_date', 'reviews_rating', 'reviews_username']\n",
      "\n",
      "shape: rows: 1597, columns: 6\n"
     ]
    }
   ],
   "source": [
    "print(type(amazon))\n",
    "print(\"\")\n",
    "print(amazon.columns)\n",
    "print(\"\")\n",
    "print(\"shape: rows: {}, columns: {}\".\\\n",
    "      format(amazon.count(), len(amazon.columns)))\n",
    "\n"
   ]
  },
  {
   "cell_type": "markdown",
   "metadata": {},
   "source": [
    "Distinct values"
   ]
  },
  {
   "cell_type": "code",
   "execution_count": 1581,
   "metadata": {},
   "outputs": [
    {
     "name": "stdout",
     "output_type": "stream",
     "text": [
      "+--------------------+\n",
      "|                name|\n",
      "+--------------------+\n",
      "|   Kindle Paperwhite|\n",
      "|     Kindle Keyboard|\n",
      "|Certified Refurbi...|\n",
      "|Kindle Fire HDX 8...|\n",
      "|Amazon Echo Dot C...|\n",
      "+--------------------+\n",
      "only showing top 5 rows\n",
      "\n",
      "None\n",
      "62\n"
     ]
    }
   ],
   "source": [
    "print(amazon.select('name').distinct().show(5))\n",
    "print(amazon.select('name').distinct().count())\n",
    "\n"
   ]
  },
  {
   "cell_type": "code",
   "execution_count": 1582,
   "metadata": {},
   "outputs": [
    {
     "name": "stdout",
     "output_type": "stream",
     "text": [
      "+------------------+\n",
      "|  reviews_username|\n",
      "+------------------+\n",
      "|        Cristina M|\n",
      "|             Ricky|\n",
      "|     Tedd Gardiner|\n",
      "|            Dougal|\n",
      "|Miljan David Tanic|\n",
      "|        Kelvin Law|\n",
      "+------------------+\n",
      "only showing top 6 rows\n",
      "\n",
      "None\n",
      "950\n"
     ]
    }
   ],
   "source": [
    "print(amazon.select('reviews_username').distinct().show(6))\n",
    "print(amazon.select('reviews_username').distinct().count())\n"
   ]
  },
  {
   "cell_type": "code",
   "execution_count": 1583,
   "metadata": {},
   "outputs": [
    {
     "name": "stdout",
     "output_type": "stream",
     "text": [
      "+--------------+\n",
      "|reviews_rating|\n",
      "+--------------+\n",
      "|             5|\n",
      "|             4|\n",
      "|          null|\n",
      "|             3|\n",
      "|             2|\n",
      "|             1|\n",
      "+--------------+\n",
      "\n",
      "None\n",
      "6\n"
     ]
    }
   ],
   "source": [
    "print(amazon.select('reviews_rating').distinct().show(6))\n",
    "print(amazon.select('reviews_rating').distinct().count())"
   ]
  },
  {
   "cell_type": "code",
   "execution_count": 1584,
   "metadata": {},
   "outputs": [
    {
     "name": "stdout",
     "output_type": "stream",
     "text": [
      "root\n",
      " |-- id: string (nullable = true)\n",
      " |-- dateadded: string (nullable = true)\n",
      " |-- name: string (nullable = true)\n",
      " |-- reviews_date: string (nullable = true)\n",
      " |-- reviews_rating: integer (nullable = true)\n",
      " |-- reviews_username: string (nullable = true)\n",
      "\n"
     ]
    }
   ],
   "source": [
    "amazon.printSchema()"
   ]
  },
  {
   "cell_type": "code",
   "execution_count": 1585,
   "metadata": {},
   "outputs": [
    {
     "name": "stdout",
     "output_type": "stream",
     "text": [
      "+--------------------+-----------------+--------------+\n",
      "|                  id|             name|reviews_rating|\n",
      "+--------------------+-----------------+--------------+\n",
      "|AVpe7AsMilAPnD_xQ78G|Kindle Paperwhite|             5|\n",
      "|AVpe7AsMilAPnD_xQ78G|Kindle Paperwhite|             5|\n",
      "|AVpe7AsMilAPnD_xQ78G|Kindle Paperwhite|             4|\n",
      "|AVpe7AsMilAPnD_xQ78G|Kindle Paperwhite|             5|\n",
      "|AVpe7AsMilAPnD_xQ78G|Kindle Paperwhite|             5|\n",
      "|AVpe7AsMilAPnD_xQ78G|Kindle Paperwhite|          null|\n",
      "|AVpe7AsMilAPnD_xQ78G|Kindle Paperwhite|          null|\n",
      "|AVpe7AsMilAPnD_xQ78G|Kindle Paperwhite|          null|\n",
      "|AVpe7AsMilAPnD_xQ78G|Kindle Paperwhite|          null|\n",
      "|AVpe7AsMilAPnD_xQ78G|Kindle Paperwhite|          null|\n",
      "+--------------------+-----------------+--------------+\n",
      "only showing top 10 rows\n",
      "\n",
      "None\n"
     ]
    },
    {
     "data": {
      "text/plain": [
       "None"
      ]
     },
     "metadata": {},
     "output_type": "display_data"
    }
   ],
   "source": [
    "select1 = amazon.select('id', 'name', 'reviews_rating')\n",
    "display(print(select1.show(10)))"
   ]
  },
  {
   "cell_type": "markdown",
   "metadata": {},
   "source": [
    "#### Preparation: dates"
   ]
  },
  {
   "cell_type": "code",
   "execution_count": 1586,
   "metadata": {},
   "outputs": [
    {
     "name": "stdout",
     "output_type": "stream",
     "text": [
      "+--------------------+--------------------+\n",
      "|        reviews_date|           dateadded|\n",
      "+--------------------+--------------------+\n",
      "|2015-08-08T00:00:00Z|2016-03-08T20:21:53Z|\n",
      "|2015-09-01T00:00:00Z|2016-03-08T20:21:53Z|\n",
      "|2015-07-20T00:00:00Z|2016-03-08T20:21:53Z|\n",
      "|2017-06-16T00:00:00Z|2016-03-08T20:21:53Z|\n",
      "|2016-08-11T00:00:00Z|2016-03-08T20:21:53Z|\n",
      "+--------------------+--------------------+\n",
      "only showing top 5 rows\n",
      "\n",
      "DataFrame[reviews_date: string, dateadded: string]\n"
     ]
    }
   ],
   "source": [
    "amazon.select('reviews_date', 'dateadded').show(5)\n",
    "print(amazon.select('reviews_date', 'dateadded'))"
   ]
  },
  {
   "cell_type": "code",
   "execution_count": 1587,
   "metadata": {},
   "outputs": [],
   "source": [
    "# extract date from string and convert to date\n",
    "# https://spark.apache.org/docs/2.2.0/api/python/pyspark.sql.html?highlight=date#pyspark.sql.functions.to_date\n",
    "\n",
    "amazon2 = amazon.withColumn(\"dateadded\", F.to_date(F.col(\"dateadded\")))\n",
    "amazon2 = amazon2.withColumn('reviews_date', F.to_date(F.col('reviews_date')))"
   ]
  },
  {
   "cell_type": "code",
   "execution_count": 1588,
   "metadata": {},
   "outputs": [
    {
     "name": "stdout",
     "output_type": "stream",
     "text": [
      "+------------+----------+\n",
      "|reviews_date| dateadded|\n",
      "+------------+----------+\n",
      "|  2015-08-08|2016-03-08|\n",
      "|  2015-09-01|2016-03-08|\n",
      "|  2015-07-20|2016-03-08|\n",
      "|  2017-06-16|2016-03-08|\n",
      "|  2016-08-11|2016-03-08|\n",
      "+------------+----------+\n",
      "only showing top 5 rows\n",
      "\n",
      "root\n",
      " |-- id: string (nullable = true)\n",
      " |-- dateadded: date (nullable = true)\n",
      " |-- name: string (nullable = true)\n",
      " |-- reviews_date: date (nullable = true)\n",
      " |-- reviews_rating: integer (nullable = true)\n",
      " |-- reviews_username: string (nullable = true)\n",
      "\n",
      "None\n"
     ]
    }
   ],
   "source": [
    "amazon2.select('reviews_date', 'dateadded').show(5)\n",
    "print(amazon2.printSchema())"
   ]
  },
  {
   "cell_type": "markdown",
   "metadata": {},
   "source": [
    "### Missing values"
   ]
  },
  {
   "cell_type": "code",
   "execution_count": 1589,
   "metadata": {},
   "outputs": [
    {
     "name": "stdout",
     "output_type": "stream",
     "text": [
      "+--------------+\n",
      "|reviews_rating|\n",
      "+--------------+\n",
      "|          null|\n",
      "|          null|\n",
      "|          null|\n",
      "|          null|\n",
      "+--------------+\n",
      "only showing top 4 rows\n",
      "\n",
      "None\n",
      "420 null-values of all observations 1597\n",
      "fraction of null values: 0.2629931120851597\n"
     ]
    }
   ],
   "source": [
    "null_1 = \\\n",
    "amazon2.select('reviews_rating').\\\n",
    "where(col('reviews_rating').isNull() | isnan(col('reviews_rating')))\n",
    "\n",
    "print(null_1.show(4))\n",
    "print(\"{} null-values of all observations {}\".\\\n",
    "      format(null_1.count(), amazon2.count()))\n",
    "\n",
    "fraction1 = null_1.count() /amazon2.count()\n",
    "print(\"fraction of null values: {}\".format(fraction1))\n"
   ]
  },
  {
   "cell_type": "code",
   "execution_count": 1590,
   "metadata": {},
   "outputs": [],
   "source": [
    "null2 = \\\n",
    "amazon.select(['id', 'dateadded', 'name', 'reviews_date']).\\\n",
    "where(col('id').isNull() | isnan(col('id')))"
   ]
  },
  {
   "cell_type": "code",
   "execution_count": 1591,
   "metadata": {},
   "outputs": [
    {
     "name": "stdout",
     "output_type": "stream",
     "text": [
      "<class 'handyspark.sql.dataframe.HandyFrame'>\n",
      "Row(id='AVpe7AsMilAPnD_xQ78G', dateadded=datetime.date(2016, 3, 8), name='Kindle Paperwhite', reviews_date=datetime.date(2015, 8, 8), reviews_rating=5, reviews_username='Cristina M')\n"
     ]
    }
   ],
   "source": [
    "amazon_hdf = amazon2.toHandy()\n",
    "\n",
    "print(type(amazon_hdf ))\n",
    "print(amazon_hdf.head())"
   ]
  },
  {
   "cell_type": "code",
   "execution_count": 1592,
   "metadata": {},
   "outputs": [
    {
     "data": {
      "text/plain": [
       "id                    0\n",
       "dateadded             0\n",
       "name                  0\n",
       "reviews_date        380\n",
       "reviews_rating      420\n",
       "reviews_username     17\n",
       "Name: missing, dtype: int64"
      ]
     },
     "execution_count": 1592,
     "metadata": {},
     "output_type": "execute_result"
    }
   ],
   "source": [
    "amazon_hdf.isnull()"
   ]
  },
  {
   "cell_type": "code",
   "execution_count": 1593,
   "metadata": {},
   "outputs": [],
   "source": [
    "amazon_hdf2 = amazon_hdf.na.drop()"
   ]
  },
  {
   "cell_type": "code",
   "execution_count": 1594,
   "metadata": {},
   "outputs": [
    {
     "data": {
      "text/plain": [
       "id                  0.0\n",
       "dateadded           0.0\n",
       "name                0.0\n",
       "reviews_date        0.0\n",
       "reviews_rating      0.0\n",
       "reviews_username    0.0\n",
       "Name: missing(ratio), dtype: float64"
      ]
     },
     "execution_count": 1594,
     "metadata": {},
     "output_type": "execute_result"
    }
   ],
   "source": [
    "amazon_hdf2.isnull(ratio=True)"
   ]
  },
  {
   "cell_type": "markdown",
   "metadata": {},
   "source": [
    "### Plots"
   ]
  },
  {
   "cell_type": "code",
   "execution_count": 1595,
   "metadata": {},
   "outputs": [
    {
     "data": {
      "text/plain": [
       "reviews_rating\n",
       "1     38\n",
       "2     28\n",
       "3     68\n",
       "4    217\n",
       "5    609\n",
       "Name: value_counts, dtype: int64"
      ]
     },
     "execution_count": 1595,
     "metadata": {},
     "output_type": "execute_result"
    }
   ],
   "source": [
    "amazon_hdf2.cols['reviews_rating'].value_counts()"
   ]
  },
  {
   "cell_type": "code",
   "execution_count": 1596,
   "metadata": {},
   "outputs": [
    {
     "data": {
      "image/png": "[encoded data removed]",
      "text/plain": [
       "<Figure size 576x288 with 2 Axes>"
      ]
     },
     "metadata": {
      "needs_background": "light"
     },
     "output_type": "display_data"
    }
   ],
   "source": [
    "# distribution of the rating variable\n",
    "fig, axes = plt.subplots(1,2, figsize=(8,4))\n",
    "amazon_hdf2.cols['reviews_rating'].hist(ax=axes[0])\n",
    "amazon_hdf2.cols['reviews_rating'].boxplot(ax=axes[1])\n",
    "plt.show()"
   ]
  },
  {
   "cell_type": "markdown",
   "metadata": {},
   "source": [
    "###  toPandas \n",
    "used to investigate and plot categorical variables."
   ]
  },
  {
   "cell_type": "code",
   "execution_count": 1597,
   "metadata": {},
   "outputs": [
    {
     "name": "stdout",
     "output_type": "stream",
     "text": [
      "<class 'pandas.core.frame.DataFrame'>\n",
      "RangeIndex: 1597 entries, 0 to 1596\n",
      "Data columns (total 6 columns):\n",
      "id                  1597 non-null object\n",
      "dateadded           1597 non-null object\n",
      "name                1597 non-null object\n",
      "reviews_date        1217 non-null object\n",
      "reviews_rating      1177 non-null float64\n",
      "reviews_username    1580 non-null object\n",
      "dtypes: float64(1), object(5)\n",
      "memory usage: 75.0+ KB\n"
     ]
    }
   ],
   "source": [
    "amazon_pd = amazon.toPandas()\n",
    "amazon_pd.info()"
   ]
  },
  {
   "cell_type": "markdown",
   "metadata": {},
   "source": [
    "### Missing values\n",
    "can inhibit plotting."
   ]
  },
  {
   "cell_type": "code",
   "execution_count": 1598,
   "metadata": {},
   "outputs": [
    {
     "data": {
      "text/plain": [
       "id                    0\n",
       "dateadded             0\n",
       "name                  0\n",
       "reviews_date        380\n",
       "reviews_rating      420\n",
       "reviews_username     17\n",
       "dtype: int64"
      ]
     },
     "execution_count": 1598,
     "metadata": {},
     "output_type": "execute_result"
    }
   ],
   "source": [
    "amazon_pd.isna().sum()"
   ]
  },
  {
   "cell_type": "code",
   "execution_count": 1599,
   "metadata": {},
   "outputs": [],
   "source": [
    "amazon_pd['reviews_rating'] = \\\n",
    "amazon_pd['reviews_rating'].fillna(amazon_pd['reviews_rating'].median())"
   ]
  },
  {
   "cell_type": "code",
   "execution_count": 1600,
   "metadata": {},
   "outputs": [],
   "source": [
    "amazon_pd['reviews_date'] = \\\n",
    "amazon_pd['reviews_date'].fillna(method='ffill')\n"
   ]
  },
  {
   "cell_type": "code",
   "execution_count": 1601,
   "metadata": {},
   "outputs": [
    {
     "name": "stdout",
     "output_type": "stream",
     "text": [
      "<class 'pandas.core.frame.DataFrame'>\n",
      "Int64Index: 1580 entries, 0 to 1596\n",
      "Data columns (total 6 columns):\n",
      "id                  1580 non-null object\n",
      "dateadded           1580 non-null object\n",
      "name                1580 non-null object\n",
      "reviews_date        1580 non-null object\n",
      "reviews_rating      1580 non-null float64\n",
      "reviews_username    1580 non-null object\n",
      "dtypes: float64(1), object(5)\n",
      "memory usage: 86.4+ KB\n"
     ]
    }
   ],
   "source": [
    "amazon_na = amazon_pd.loc[amazon_pd['reviews_username'].isna(), \n",
    "                         ['reviews_rating','reviews_username']]\n",
    "\n",
    "list22 = amazon_na.index.tolist()\n",
    "amazon_2 = amazon_pd.drop(list22)\n",
    "amazon_2.info()"
   ]
  },
  {
   "cell_type": "code",
   "execution_count": 1602,
   "metadata": {},
   "outputs": [],
   "source": [
    "amazon_pd['reviews_username'] = \\\n",
    "amazon_pd['reviews_username'].dropna()"
   ]
  },
  {
   "cell_type": "code",
   "execution_count": 1603,
   "metadata": {},
   "outputs": [
    {
     "data": {
      "text/plain": [
       "id                   0\n",
       "dateadded            0\n",
       "name                 0\n",
       "reviews_date         0\n",
       "reviews_rating       0\n",
       "reviews_username    17\n",
       "dtype: int64"
      ]
     },
     "execution_count": 1603,
     "metadata": {},
     "output_type": "execute_result"
    }
   ],
   "source": [
    "amazon_pd.isna().sum()"
   ]
  },
  {
   "cell_type": "code",
   "execution_count": 1604,
   "metadata": {},
   "outputs": [
    {
     "data": {
      "image/png": "[encoded data removed]",
      "text/plain": [
       "<Figure size 7200x2160 with 1 Axes>"
      ]
     },
     "metadata": {
      "needs_background": "light"
     },
     "output_type": "display_data"
    }
   ],
   "source": [
    "amazon_pd['name'].value_counts().plot.bar(figsize=(100,30), \n",
    "                                          color=[\"red\", \"green\"],\n",
    "                                          edgecolor=\"black\", linewidth=2,\n",
    "                                          title='Frequency counts of the product name variable')\n",
    "plt.show()"
   ]
  },
  {
   "cell_type": "markdown",
   "metadata": {},
   "source": [
    "Interestingly the count of (product) names shows a long tail\n",
    "to the right. The first 8 product names have the highest frequency.\n",
    "This is not untypically and in line with the Pareto-distribution."
   ]
  },
  {
   "cell_type": "code",
   "execution_count": 1605,
   "metadata": {},
   "outputs": [
    {
     "data": {
      "image/png": "[encoded data removed]",
      "text/plain": [
       "<Figure size 1440x720 with 1 Axes>"
      ]
     },
     "metadata": {
      "needs_background": "light"
     },
     "output_type": "display_data"
    }
   ],
   "source": [
    "amazon_pd['name'].value_counts()[:10].plot.bar(figsize=(20,10), \n",
    "                                          color=[\"azure\", \"darkred\"],\n",
    "                                          edgecolor=\"black\", linewidth=2,\n",
    "                                          title='Top-ten of the product name variable')\n",
    "plt.show()"
   ]
  },
  {
   "cell_type": "code",
   "execution_count": 1606,
   "metadata": {},
   "outputs": [
    {
     "name": "stdout",
     "output_type": "stream",
     "text": [
      "['Cristina M' 'Ricky' 'Tedd Gardiner' 'Dougal' 'Miljan David Tanic']\n",
      "A. Younan          59\n",
      "William Hardin     58\n",
      "Andrew             43\n",
      "Victor L.          30\n",
      "NF                 29\n",
      "Mike W.            29\n",
      "Earthling1984      28\n",
      "Amazon Reviewer    27\n",
      "Mandy              26\n",
      "Amazon Customer    22\n",
      "Name: reviews_username, dtype: int64\n",
      "\n",
      "<class 'pandas.core.series.Series'>\n",
      "count    10.000000\n",
      "mean     35.100000\n",
      "std      13.453211\n",
      "min      22.000000\n",
      "25%      27.250000\n",
      "50%      29.000000\n",
      "75%      39.750000\n",
      "max      59.000000\n",
      "Name: reviews_username, dtype: float64\n",
      "\n",
      "['A. Younan', 'William Hardin', 'Andrew', 'Victor L.', 'NF']\n"
     ]
    }
   ],
   "source": [
    "print(amazon_pd['reviews_username'].unique()[:5])\n",
    "\n",
    "usernames = amazon_pd['reviews_username'].value_counts()[:10]\n",
    "\n",
    "print(usernames[:10] )\n",
    "\n",
    "print(\"\")\n",
    "\n",
    "print(type(usernames))\n",
    "print(usernames.describe())\n",
    "\n",
    "print(\"\")\n",
    "\n",
    "usernames_index = usernames.index.tolist()\n",
    "print(usernames_index[:5])"
   ]
  },
  {
   "cell_type": "code",
   "execution_count": 1607,
   "metadata": {},
   "outputs": [
    {
     "data": {
      "image/png": "[encoded data removed]",
      "text/plain": [
       "<Figure size 1080x360 with 1 Axes>"
      ]
     },
     "metadata": {
      "needs_background": "light"
     },
     "output_type": "display_data"
    }
   ],
   "source": [
    "usernames.plot.bar(x=usernames.index,\n",
    "                   figsize=(15,5), color=[\"orange\", \"azure\"], \n",
    "                   edgecolor=\"black\", linewidth=4,\n",
    "                   title=\"top ten reviews_username counts\")\n",
    "\n",
    "# plt.xticks(positions1, usernames_index)\n",
    "plt.show()"
   ]
  },
  {
   "cell_type": "markdown",
   "metadata": {},
   "source": [
    "### Datetime\n",
    "\n",
    "There are two variables formatted as string objects, which are dates.\n",
    "The string are converted into dates."
   ]
  },
  {
   "cell_type": "code",
   "execution_count": 1608,
   "metadata": {},
   "outputs": [
    {
     "name": "stdout",
     "output_type": "stream",
     "text": [
      "0    2016-03-08T20:21:53Z\n",
      "1    2016-03-08T20:21:53Z\n",
      "2    2016-03-08T20:21:53Z\n",
      "Name: dateadded, dtype: object\n",
      "<class 'str'>\n",
      "\n",
      "0    2015-08-08T00:00:00Z\n",
      "1    2015-09-01T00:00:00Z\n",
      "2    2015-07-20T00:00:00Z\n",
      "3    2017-06-16T00:00:00Z\n",
      "4    2016-08-11T00:00:00Z\n",
      "Name: reviews_date, dtype: object\n"
     ]
    }
   ],
   "source": [
    "print(amazon_pd['dateadded'][:3])\n",
    "print(type(amazon_pd['dateadded'][5]))\n",
    "print(\"\")\n",
    "print(amazon_pd['reviews_date'][:5])\n"
   ]
  },
  {
   "cell_type": "markdown",
   "metadata": {},
   "source": [
    "<p>How does datetime.strptime works?</p> \n",
    "\n",
    "<p>\n",
    "It converts strings to dates and needs therefore a date in a \n",
    "string format. It takes a format, which describes the string \n",
    "format. The opposite is strftime. This converts a date to a string.\n",
    "</p> \n",
    "\n",
    "\n",
    "<a href=\"https://docs.python.org/3/library/datetime.html#strftime-and-strptime-behavior\" target=\"_blank\">strftime() and strptime() Behavior</a> "
   ]
  },
  {
   "cell_type": "code",
   "execution_count": 1609,
   "metadata": {},
   "outputs": [
    {
     "name": "stdout",
     "output_type": "stream",
     "text": [
      "2015-10-30 08:59:32\n"
     ]
    }
   ],
   "source": [
    "# from datetime import datetime\n",
    "datetime_object =\\\n",
    "datetime.strptime('2015-10-30T08:59:32Z',\"%Y-%m-%dT%H:%M:%SZ\")\n",
    "print(datetime_object)"
   ]
  },
  {
   "cell_type": "code",
   "execution_count": 1610,
   "metadata": {},
   "outputs": [
    {
     "name": "stdout",
     "output_type": "stream",
     "text": [
      "0   2016-03-08 20:21:53\n",
      "1   2016-03-08 20:21:53\n",
      "2   2016-03-08 20:21:53\n",
      "3   2016-03-08 20:21:53\n",
      "4   2016-03-08 20:21:53\n",
      "Name: datetime_added, dtype: datetime64[ns]\n"
     ]
    }
   ],
   "source": [
    "# strptime converts a single value\n",
    "# a (lambda) function looping over the column is therefore needed\n",
    "# converting every row from string to datetime\n",
    "amazon_pd['datetime_added'] =\\\n",
    "amazon_pd['dateadded'].apply(lambda x: \n",
    "                             datetime.strptime(x, \"%Y-%m-%dT%H:%M:%SZ\"))\n",
    "\n",
    "print(amazon_pd['datetime_added'][:5])\n"
   ]
  },
  {
   "cell_type": "code",
   "execution_count": 1611,
   "metadata": {},
   "outputs": [],
   "source": [
    "amazon_pd['datetime_reviews'] =\\\n",
    "amazon_pd['reviews_date'].apply(lambda z: \n",
    "                                datetime.strptime(z, \"%Y-%m-%dT%H:%M:%SZ\"))"
   ]
  },
  {
   "cell_type": "code",
   "execution_count": 1612,
   "metadata": {},
   "outputs": [
    {
     "name": "stdout",
     "output_type": "stream",
     "text": [
      "<class 'pandas.core.frame.DataFrame'>\n",
      "RangeIndex: 1597 entries, 0 to 1596\n",
      "Data columns (total 8 columns):\n",
      "id                  1597 non-null object\n",
      "dateadded           1597 non-null object\n",
      "name                1597 non-null object\n",
      "reviews_date        1597 non-null object\n",
      "reviews_rating      1597 non-null float64\n",
      "reviews_username    1580 non-null object\n",
      "datetime_added      1597 non-null datetime64[ns]\n",
      "datetime_reviews    1597 non-null datetime64[ns]\n",
      "dtypes: datetime64[ns](2), float64(1), object(5)\n",
      "memory usage: 99.9+ KB\n",
      "None\n"
     ]
    }
   ],
   "source": [
    "print(amazon_pd.info())"
   ]
  },
  {
   "cell_type": "code",
   "execution_count": 1613,
   "metadata": {},
   "outputs": [],
   "source": [
    "amazon_pd_2 = \\\n",
    "amazon_pd.drop_duplicates(subset=['datetime_added'], \n",
    "                          keep='first', inplace=False)\n",
    "\n",
    "amazon_pd_2 = amazon_pd_2.sort_values(by='datetime_added')\n",
    "\n",
    "amazon_pd_3 = \\\n",
    "amazon_pd.drop_duplicates(subset=['datetime_reviews'], \n",
    "                          keep='first', inplace=False)\n",
    "\n",
    "amazon_pd_3 = amazon_pd_3.sort_values(by='datetime_reviews')"
   ]
  },
  {
   "cell_type": "code",
   "execution_count": 1614,
   "metadata": {},
   "outputs": [
    {
     "data": {
      "image/png": "[encoded data removed]",
      "text/plain": [
       "<Figure size 1440x720 with 2 Axes>"
      ]
     },
     "metadata": {
      "needs_background": "light"
     },
     "output_type": "display_data"
    }
   ],
   "source": [
    "# this plotting does not make much sense\n",
    "# keep it here to remember this for heuristic reasons\n",
    "fig, (ax1, ax2) = plt.subplots(2,1, figsize=(20,10))\n",
    "ax1.plot(amazon_pd_2.datetime_added, amazon_pd_2.reviews_rating)\n",
    "ax1.set_title(\"datetime_added to reviews_rating\")\n",
    "ax2.plot(amazon_pd_3.datetime_reviews, amazon_pd_3.reviews_rating, color=\"red\")\n",
    "ax2.set_title(\"datetime_reviews to reviews_rating\")\n",
    "plt.show()"
   ]
  },
  {
   "cell_type": "markdown",
   "metadata": {},
   "source": [
    "### Label encoding with Pandas\n",
    "\n",
    "<p>\n",
    "As shown above all columns besides review ratings are not numeric columns.\n",
    "The goal of this project is to develop collaborative filtering models \n",
    "applying the Alternating Least Squares (ALS) algorithm. \n",
    "As most machine learning algorithms the ALS does only work with\n",
    "numeric data and not strings. Therefore the strings are transformed\n",
    "below into numeric data using label encoding. The labels work purely\n",
    "as identifiers and indicating not any order. Besides reviews rating, \n",
    "it has got an ordinal relationship.\n",
    "</p> \n",
    "\n",
    "<p>\n",
    "Of course ideally this should also done in pyspark \n",
    "and pyspark offers some approaches, but not as mature\n",
    "as the methods of sklearn and pandas. Therefore the detour\n",
    "around this packages is done to do the label encoding.\n",
    "</p> "
   ]
  },
  {
   "cell_type": "code",
   "execution_count": 1615,
   "metadata": {},
   "outputs": [
    {
     "name": "stdout",
     "output_type": "stream",
     "text": [
      "<class 'pandas.core.frame.DataFrame'>\n",
      "RangeIndex: 1597 entries, 0 to 1596\n",
      "Data columns (total 6 columns):\n",
      "id                  1597 non-null object\n",
      "dateadded           1597 non-null object\n",
      "name                1597 non-null object\n",
      "reviews_date        1217 non-null object\n",
      "reviews_rating      1177 non-null float64\n",
      "reviews_username    1580 non-null object\n",
      "dtypes: float64(1), object(5)\n",
      "memory usage: 75.0+ KB\n",
      "None\n"
     ]
    }
   ],
   "source": [
    "# from sklearn import preprocessing\n",
    "amazon_pandas_direct = pd.read_csv(\"amazon_query_3.csv\")\n",
    "print(amazon_pandas_direct.info())"
   ]
  },
  {
   "cell_type": "code",
   "execution_count": 1616,
   "metadata": {},
   "outputs": [
    {
     "name": "stdout",
     "output_type": "stream",
     "text": [
      "[ 5.  4. nan  3.  2.  1.]\n"
     ]
    }
   ],
   "source": [
    "print(amazon_pandas_direct.reviews_rating.unique())"
   ]
  },
  {
   "cell_type": "markdown",
   "metadata": {},
   "source": [
    "#### Missing values"
   ]
  },
  {
   "cell_type": "code",
   "execution_count": 1617,
   "metadata": {},
   "outputs": [
    {
     "name": "stdout",
     "output_type": "stream",
     "text": [
      "<class 'pandas.core.frame.DataFrame'>\n",
      "Int64Index: 1580 entries, 0 to 1596\n",
      "Data columns (total 4 columns):\n",
      "id                  1580 non-null object\n",
      "name                1580 non-null object\n",
      "reviews_rating      1580 non-null float64\n",
      "reviews_username    1580 non-null object\n",
      "dtypes: float64(1), object(3)\n",
      "memory usage: 61.7+ KB\n"
     ]
    },
    {
     "data": {
      "text/plain": [
       "id                  0\n",
       "name                0\n",
       "reviews_rating      0\n",
       "reviews_username    0\n",
       "dtype: int64"
      ]
     },
     "execution_count": 1617,
     "metadata": {},
     "output_type": "execute_result"
    }
   ],
   "source": [
    "amazon_pandas_direct.isnull().sum()\n",
    "amazon_pandas_direct2 = amazon_pandas_direct.drop(labels=['reviews_date', 'dateadded'], axis=1)\n",
    "amazon_pandas_direct2['reviews_rating'] = \\\n",
    "                      amazon_pandas_direct2['reviews_rating'].fillna(amazon_pandas_direct2['reviews_rating'].median())\n",
    "amazon_pandas_direct2 = amazon_pandas_direct2.dropna()\n",
    "amazon_pandas_direct2.info()\n",
    "amazon_pandas_direct2.head()\n",
    "amazon_pandas_direct2.isnull().sum()"
   ]
  },
  {
   "cell_type": "code",
   "execution_count": 1618,
   "metadata": {},
   "outputs": [
    {
     "name": "stdout",
     "output_type": "stream",
     "text": [
      "[5. 4. 3. 2. 1.]\n"
     ]
    }
   ],
   "source": [
    "print(amazon_pandas_direct2.reviews_rating.unique())"
   ]
  },
  {
   "cell_type": "code",
   "execution_count": 1619,
   "metadata": {},
   "outputs": [
    {
     "name": "stdout",
     "output_type": "stream",
     "text": [
      "   id               name  reviews_rating    reviews_username\n",
      "0  33  Kindle Paperwhite             5.0          Cristina M\n",
      "1  33  Kindle Paperwhite             5.0               Ricky\n",
      "2  33  Kindle Paperwhite             4.0       Tedd Gardiner\n",
      "3  33  Kindle Paperwhite             5.0              Dougal\n",
      "4  33  Kindle Paperwhite             5.0  Miljan David Tanic\n",
      "[33 37 40 44  1  6 30  3 24  7  5  9 48 10 11 45 29 31 49 27  0 19 13 15\n",
      "  2  8 28 12 16 26 14  4 41 17 38 58 61 32 59 23 64 20 52 63 62 22 18 54\n",
      " 60 21 35 36 25 57 56 53 51 34 43 50 55 46 65 47 39 42]\n"
     ]
    }
   ],
   "source": [
    "le = preprocessing.LabelEncoder()\n",
    "le.fit(amazon_pandas_direct2['id'])\n",
    "amazon_pandas_direct2['id'] = le.transform(amazon_pandas_direct2['id'])\n",
    "print(amazon_pandas_direct2.head())\n",
    "print(amazon_pandas_direct2['id'].unique())"
   ]
  },
  {
   "cell_type": "code",
   "execution_count": 1620,
   "metadata": {},
   "outputs": [
    {
     "name": "stdout",
     "output_type": "stream",
     "text": [
      "['id', 'name', 'reviews_rating', 'reviews_username']\n",
      "['name', 'reviews_username']\n"
     ]
    }
   ],
   "source": [
    "cols140 = amazon_pandas_direct2.columns.tolist()\n",
    "print(cols140)\n",
    "cols140.remove('reviews_rating')\n",
    "cols140.remove('id')\n",
    "print(cols140)"
   ]
  },
  {
   "cell_type": "code",
   "execution_count": 1621,
   "metadata": {},
   "outputs": [
    {
     "name": "stdout",
     "output_type": "stream",
     "text": [
      "name\n",
      "<class 'str'>\n",
      "reviews_username\n",
      "<class 'str'>\n",
      "   id  name  reviews_rating  reviews_username\n",
      "0  33    55             5.0               151\n",
      "1  33    55             5.0               618\n",
      "2  33    55             4.0               722\n",
      "3  33    55             5.0               215\n",
      "4  33    55             5.0               525\n",
      "949\n",
      "61\n",
      "(1580, 4)\n"
     ]
    }
   ],
   "source": [
    "le = preprocessing.LabelEncoder()\n",
    "for i in cols140:\n",
    "    print(i)\n",
    "    print(type(i))\n",
    "    le.fit(amazon_pandas_direct2[i])\n",
    "    amazon_pandas_direct2[i] = le.transform(amazon_pandas_direct2[i])\n",
    "    \n",
    "print(amazon_pandas_direct2.head())\n",
    "print(len(amazon_pandas_direct2.reviews_username.unique()))\n",
    "print(np.count_nonzero(amazon_pandas_direct2.name.unique()))\n",
    "print(amazon_pandas_direct2.shape)"
   ]
  },
  {
   "cell_type": "code",
   "execution_count": 1622,
   "metadata": {},
   "outputs": [
    {
     "name": "stdout",
     "output_type": "stream",
     "text": [
      "[33 37 40 44  1  6 30  3 24  7  5  9 48 10 11 45 29 31 49 27  0 19 13 15\n",
      "  2  8 28 12 16 26 14  4 41 17 38 58 61 32 59 23 64 20 52 63 62 22 18 54\n",
      " 60 21 35 36 25 57 56 53 51 34 43 50 55 46 65 47 39 42]\n"
     ]
    }
   ],
   "source": [
    "print(amazon_pandas_direct2.id.unique())"
   ]
  },
  {
   "cell_type": "markdown",
   "metadata": {},
   "source": [
    "### Write cleaned data frame to disc as csv"
   ]
  },
  {
   "cell_type": "code",
   "execution_count": 1623,
   "metadata": {},
   "outputs": [],
   "source": [
    "amazon_pandas_direct2.to_csv(\"amazon_pandas_cleaned.csv\", sep=\",\", \n",
    "                             header=True, index=True, \n",
    "                             index_label=\"index_label\")"
   ]
  },
  {
   "cell_type": "code",
   "execution_count": 1624,
   "metadata": {},
   "outputs": [
    {
     "name": "stdout",
     "output_type": "stream",
     "text": [
      "<class 'pandas.core.frame.DataFrame'>\n",
      "RangeIndex: 1580 entries, 0 to 1579\n",
      "Data columns (total 5 columns):\n",
      "index_label         1580 non-null int64\n",
      "id                  1580 non-null int64\n",
      "name                1580 non-null int64\n",
      "reviews_rating      1580 non-null float64\n",
      "reviews_username    1580 non-null int64\n",
      "dtypes: float64(1), int64(4)\n",
      "memory usage: 61.8 KB\n",
      "None\n",
      "   index_label  id  name  reviews_rating  reviews_username\n",
      "0            0  33    55             5.0               151\n",
      "1            1  33    55             5.0               618\n",
      "2            2  33    55             4.0               722\n",
      "3            3  33    55             5.0               215\n",
      "4            4  33    55             5.0               525\n"
     ]
    }
   ],
   "source": [
    "# check it\n",
    "amazon_pandas_cleaned = pd.read_csv(\"amazon_pandas_cleaned.csv\", sep=\",\")\n",
    "print(amazon_pandas_cleaned.info())\n",
    "print(amazon_pandas_cleaned.head())"
   ]
  },
  {
   "cell_type": "markdown",
   "metadata": {},
   "source": [
    "### Converting a pandas data frame into a pyspark data frame"
   ]
  },
  {
   "cell_type": "code",
   "execution_count": 1625,
   "metadata": {},
   "outputs": [],
   "source": [
    "amazon_schema = \\\n",
    "StructType([    \n",
    "    \n",
    "    StructField('id', IntegerType(), True),\n",
    "    StructField('name', IntegerType(), True),\n",
    "    StructField('reviews_rating', FloatType(), True), \n",
    "    StructField('reviews_username', IntegerType(), True)\n",
    "\n",
    "])"
   ]
  },
  {
   "cell_type": "code",
   "execution_count": 1626,
   "metadata": {},
   "outputs": [],
   "source": [
    "amazon_sparkdf = spark.createDataFrame(amazon_pandas_direct2,\n",
    "                                       schema=amazon_schema)\n"
   ]
  },
  {
   "cell_type": "markdown",
   "metadata": {},
   "source": [
    "### Partions"
   ]
  },
  {
   "cell_type": "code",
   "execution_count": 1627,
   "metadata": {},
   "outputs": [
    {
     "name": "stdout",
     "output_type": "stream",
     "text": [
      "4\n",
      "<class 'pyspark.sql.dataframe.DataFrame'>\n",
      "30\n"
     ]
    }
   ],
   "source": [
    "# current number of partitions\n",
    "print(amazon_sparkdf.rdd.getNumPartitions())\n",
    "\n",
    "# increase number of partitions\n",
    "amazon_sparkdf_2 = amazon_sparkdf.repartition(30)\n",
    "\n",
    "print(type(amazon_sparkdf_2))\n",
    "print(amazon_sparkdf_2.rdd.getNumPartitions())"
   ]
  },
  {
   "cell_type": "markdown",
   "metadata": {},
   "source": [
    "### Explore the newly created pyspark data frame"
   ]
  },
  {
   "cell_type": "code",
   "execution_count": 1628,
   "metadata": {},
   "outputs": [
    {
     "name": "stdout",
     "output_type": "stream",
     "text": [
      "<class 'pyspark.sql.dataframe.DataFrame'>\n",
      "1580\n",
      "root\n",
      " |-- id: integer (nullable = true)\n",
      " |-- name: integer (nullable = true)\n",
      " |-- reviews_rating: float (nullable = true)\n",
      " |-- reviews_username: integer (nullable = true)\n",
      "\n",
      "None\n"
     ]
    }
   ],
   "source": [
    "print(type(amazon_sparkdf_2))\n",
    "print(amazon_sparkdf_2.count())\n",
    "print(amazon_sparkdf_2.printSchema())"
   ]
  },
  {
   "cell_type": "code",
   "execution_count": 1629,
   "metadata": {},
   "outputs": [
    {
     "name": "stdout",
     "output_type": "stream",
     "text": [
      "<class 'pyspark.sql.dataframe.DataFrame'>\n",
      "+----+--------------+----------------+\n",
      "|name|reviews_rating|reviews_username|\n",
      "+----+--------------+----------------+\n",
      "|  34|           5.0|              70|\n",
      "|  30|           5.0|             489|\n",
      "|  30|           5.0|             772|\n",
      "|  45|           4.0|             138|\n",
      "|  19|           5.0|             279|\n",
      "+----+--------------+----------------+\n",
      "only showing top 5 rows\n",
      "\n",
      "None\n"
     ]
    }
   ],
   "source": [
    "# drop id column because it is not necessary for analysing\n",
    "amazon_sparkdf_2 = amazon_sparkdf_2.drop('id')\n",
    "\n",
    "print(type(amazon_sparkdf_2))\n",
    "print(amazon_sparkdf_2.show(5))"
   ]
  },
  {
   "cell_type": "markdown",
   "metadata": {},
   "source": [
    "### Does pyspark operations work?"
   ]
  },
  {
   "cell_type": "code",
   "execution_count": 1630,
   "metadata": {},
   "outputs": [
    {
     "name": "stdout",
     "output_type": "stream",
     "text": [
      "+----+--------------+----------------+\n",
      "|name|reviews_rating|reviews_username|\n",
      "+----+--------------+----------------+\n",
      "|  34|           5.0|              70|\n",
      "|  30|           5.0|             489|\n",
      "|  30|           5.0|             772|\n",
      "|  45|           4.0|             138|\n",
      "|  19|           5.0|             279|\n",
      "+----+--------------+----------------+\n",
      "only showing top 5 rows\n",
      "\n",
      "None\n"
     ]
    }
   ],
   "source": [
    "print(amazon_sparkdf_2.show(5))"
   ]
  },
  {
   "cell_type": "code",
   "execution_count": 1631,
   "metadata": {},
   "outputs": [
    {
     "name": "stdout",
     "output_type": "stream",
     "text": [
      "+----+--------------+----------------+\n",
      "|name|reviews_rating|reviews_username|\n",
      "+----+--------------+----------------+\n",
      "|  30|           5.0|             298|\n",
      "|  19|           5.0|             468|\n",
      "|  55|           5.0|             151|\n",
      "+----+--------------+----------------+\n",
      "only showing top 3 rows\n",
      "\n"
     ]
    }
   ],
   "source": [
    "amazon_sparkdf_2.where(col('reviews_rating') == 5).show(3)"
   ]
  },
  {
   "cell_type": "code",
   "execution_count": 1632,
   "metadata": {},
   "outputs": [
    {
     "name": "stdout",
     "output_type": "stream",
     "text": [
      "+--------------+---------+-------------------+---------------------+\n",
      "|reviews_rating|sum(name)|sum(reviews_rating)|sum(reviews_username)|\n",
      "+--------------+---------+-------------------+---------------------+\n",
      "|           5.0|    33142|             5720.0|               495967|\n",
      "|           2.0|      693|               68.0|                15147|\n",
      "|           3.0|     3279|              372.0|                41165|\n",
      "|           1.0|     1192|               42.0|                17102|\n",
      "|           4.0|     6285|              944.0|               105885|\n",
      "+--------------+---------+-------------------+---------------------+\n",
      "\n"
     ]
    }
   ],
   "source": [
    "# from pyspark.sql.functions import *\n",
    "# sum does not make much sense\n",
    "amazon_sparkdf_2.groupby(\"reviews_rating\").sum().show()"
   ]
  },
  {
   "cell_type": "markdown",
   "metadata": {},
   "source": [
    "### Load the cleaned data frame and conduct operations"
   ]
  },
  {
   "cell_type": "code",
   "execution_count": 1633,
   "metadata": {},
   "outputs": [
    {
     "name": "stdout",
     "output_type": "stream",
     "text": [
      "<class 'pyspark.sql.dataframe.DataFrame'>\n",
      "\n",
      "['name', 'reviews_rating', 'reviews_username']\n"
     ]
    }
   ],
   "source": [
    "amazon_schema_2 = \\\n",
    "StructType([    \n",
    "    \n",
    "    StructField('index_label', IntegerType(), True),\n",
    "    StructField('id', IntegerType(), True),\n",
    "    StructField('name', IntegerType(), True),\n",
    "    StructField('reviews_rating', FloatType(), True), \n",
    "    StructField('reviews_username', IntegerType(), True)\n",
    "\n",
    "])\n",
    "\n",
    "\n",
    "amazon_cleaned = \\\n",
    "spark.read.csv(\"amazon_pandas_cleaned_2.csv\", \n",
    "               inferSchema=True, \n",
    "               header=True,\n",
    "               sep=\",\",\n",
    "               schema=amazon_schema_2)\n",
    "\n",
    "amazon_cleaned = amazon_cleaned.drop(*['index_label', 'id'])\n",
    "\n",
    "print(type(amazon_cleaned))\n",
    "print(\"\")\n",
    "print(amazon_cleaned.columns)\n",
    "amazon_schema_2 = \\\n",
    "StructType([    \n",
    "    \n",
    "    StructField('index_label', IntegerType(), True),\n",
    "    StructField('id', IntegerType(), True),\n",
    "    StructField('name', IntegerType(), True),\n",
    "    StructField('reviews_rating', FloatType(), True), \n",
    "    StructField('reviews_username', IntegerType(), True)\n",
    "\n",
    "])\n",
    "\n",
    "amazon_cleaned = \\\n",
    "spark.read.csv(\"amazon_pandas_cleaned_2.csv\", \n",
    "               inferSchema=True, \n",
    "               header=True,\n",
    "               sep=\",\",\n",
    "               schema=amazon_schema_2)\n",
    "\n",
    "amazon_cleaned = amazon_cleaned.drop(*['index_label', 'id'])\n",
    "\n"
   ]
  },
  {
   "cell_type": "code",
   "execution_count": 1634,
   "metadata": {},
   "outputs": [
    {
     "name": "stdout",
     "output_type": "stream",
     "text": [
      "2\n",
      "<class 'pyspark.rdd.RDD'>\n",
      "50\n"
     ]
    }
   ],
   "source": [
    "print(sc.defaultMinPartitions)\n",
    "\n",
    "amazon_rdd_part = amazon_rdd.repartition(50)\n",
    "\n",
    "print(type(amazon_rdd_part))\n",
    "print(amazon_rdd_part.getNumPartitions())"
   ]
  },
  {
   "cell_type": "markdown",
   "metadata": {},
   "source": [
    "### Explore data frame"
   ]
  },
  {
   "cell_type": "code",
   "execution_count": 1635,
   "metadata": {},
   "outputs": [
    {
     "name": "stdout",
     "output_type": "stream",
     "text": [
      "<class 'pyspark.sql.dataframe.DataFrame'>\n",
      "\n",
      "['name', 'reviews_rating', 'reviews_username']\n",
      "[Row(name=55, reviews_rating=5.0, reviews_username=151), Row(name=55, reviews_rating=5.0, reviews_username=618), Row(name=55, reviews_rating=4.0, reviews_username=722), Row(name=55, reviews_rating=5.0, reviews_username=215), Row(name=55, reviews_rating=5.0, reviews_username=525)]\n",
      "\n",
      "+----+--------------+----------------+\n",
      "|name|reviews_rating|reviews_username|\n",
      "+----+--------------+----------------+\n",
      "|  55|           5.0|             151|\n",
      "|  55|           5.0|             618|\n",
      "|  55|           4.0|             722|\n",
      "|  55|           5.0|             215|\n",
      "+----+--------------+----------------+\n",
      "only showing top 4 rows\n",
      "\n",
      "None\n",
      "\n",
      "root\n",
      " |-- name: integer (nullable = true)\n",
      " |-- reviews_rating: float (nullable = true)\n",
      " |-- reviews_username: integer (nullable = true)\n",
      "\n",
      "None\n",
      "[Row(name=55, reviews_rating=5.0, reviews_username=151), Row(name=55, reviews_rating=5.0, reviews_username=618), Row(name=55, reviews_rating=4.0, reviews_username=722), Row(name=55, reviews_rating=5.0, reviews_username=215), Row(name=55, reviews_rating=5.0, reviews_username=525)]\n",
      "\n",
      "+----+--------------+----------------+\n",
      "|name|reviews_rating|reviews_username|\n",
      "+----+--------------+----------------+\n",
      "|  55|           5.0|             151|\n",
      "|  55|           5.0|             618|\n",
      "|  55|           4.0|             722|\n",
      "|  55|           5.0|             215|\n",
      "+----+--------------+----------------+\n",
      "only showing top 4 rows\n",
      "\n",
      "None\n",
      "\n",
      "root\n",
      " |-- name: integer (nullable = true)\n",
      " |-- reviews_rating: float (nullable = true)\n",
      " |-- reviews_username: integer (nullable = true)\n",
      "\n",
      "None\n"
     ]
    }
   ],
   "source": [
    "print(type(amazon_cleaned))\n",
    "print(\"\")\n",
    "print(amazon_cleaned.columns)\n",
    "print(amazon_cleaned.take(5))\n",
    "print(\"\")\n",
    "print(amazon_cleaned.show(4))\n",
    "print(\"\")\n",
    "print(amazon_cleaned.printSchema())\n",
    "\n",
    "print(amazon_cleaned.take(5))\n",
    "print(\"\")\n",
    "print(amazon_cleaned.show(4))\n",
    "print(\"\")\n",
    "print(amazon_cleaned.printSchema())\n"
   ]
  },
  {
   "cell_type": "markdown",
   "metadata": {},
   "source": [
    "#### Does operations work on this data frame?"
   ]
  },
  {
   "cell_type": "code",
   "execution_count": 1636,
   "metadata": {},
   "outputs": [
    {
     "name": "stdout",
     "output_type": "stream",
     "text": [
      "+-------+-----------------+------------------+------------------+\n",
      "|summary|             name|    reviews_rating|  reviews_username|\n",
      "+-------+-----------------+------------------+------------------+\n",
      "|  count|             1580|              1580|              1580|\n",
      "|   mean|28.22215189873418| 4.522784810126582|427.38354430379746|\n",
      "| stddev|13.92536481054414|0.9247082441602237| 281.2931929506109|\n",
      "|    min|                0|               1.0|                 0|\n",
      "|    max|               61|               5.0|               948|\n",
      "+-------+-----------------+------------------+------------------+\n",
      "\n"
     ]
    }
   ],
   "source": [
    "# only mean of reviews rating makes sense\n",
    "# it has an ordinal relationship\n",
    "# as the other are purely identifiers\n",
    "amazon_cleaned.describe().show()"
   ]
  },
  {
   "cell_type": "code",
   "execution_count": 1637,
   "metadata": {},
   "outputs": [
    {
     "name": "stdout",
     "output_type": "stream",
     "text": [
      "+-------+------------------+\n",
      "|summary|    reviews_rating|\n",
      "+-------+------------------+\n",
      "|  count|              1580|\n",
      "|   mean| 4.522784810126582|\n",
      "| stddev|0.9247082441602237|\n",
      "|    min|               1.0|\n",
      "|    max|               5.0|\n",
      "+-------+------------------+\n",
      "\n"
     ]
    }
   ],
   "source": [
    "amazon_cleaned.describe('reviews_rating').show()"
   ]
  },
  {
   "cell_type": "code",
   "execution_count": 1638,
   "metadata": {},
   "outputs": [
    {
     "name": "stdout",
     "output_type": "stream",
     "text": [
      "+----+--------------+----------------+\n",
      "|name|reviews_rating|reviews_username|\n",
      "+----+--------------+----------------+\n",
      "|  55|           5.0|             151|\n",
      "|  55|           5.0|             618|\n",
      "|  55|           5.0|             215|\n",
      "+----+--------------+----------------+\n",
      "only showing top 3 rows\n",
      "\n"
     ]
    }
   ],
   "source": [
    "amazon_cleaned.where(col('reviews_rating') == 5).show(3)"
   ]
  },
  {
   "cell_type": "code",
   "execution_count": 1639,
   "metadata": {},
   "outputs": [
    {
     "name": "stdout",
     "output_type": "stream",
     "text": [
      "+--------------+-----+\n",
      "|reviews_rating|count|\n",
      "+--------------+-----+\n",
      "|           5.0| 1144|\n",
      "|           4.0|  236|\n",
      "|           3.0|  124|\n",
      "|           2.0|   34|\n",
      "|           1.0|   42|\n",
      "+--------------+-----+\n",
      "\n"
     ]
    }
   ],
   "source": [
    "# from pyspark.sql.functions import *\n",
    "# sum does not make much sense\n",
    "amazon_cleaned.select('reviews_rating').\\\n",
    "groupby(\"reviews_rating\").count().show()"
   ]
  },
  {
   "cell_type": "code",
   "execution_count": 1640,
   "metadata": {},
   "outputs": [
    {
     "data": {
      "text/plain": [
       "1144"
      ]
     },
     "execution_count": 1640,
     "metadata": {},
     "output_type": "execute_result"
    }
   ],
   "source": [
    "# this confirms the groupby from above\n",
    "amazon_cleaned.filter(amazon_cleaned.reviews_rating >4).count()"
   ]
  },
  {
   "cell_type": "code",
   "execution_count": 1641,
   "metadata": {},
   "outputs": [
    {
     "name": "stdout",
     "output_type": "stream",
     "text": [
      "+----+-------------------+\n",
      "|name|avg(reviews_rating)|\n",
      "+----+-------------------+\n",
      "|   1| 2.0833333333333335|\n",
      "|  61| 2.5294117647058822|\n",
      "|  45| 2.6666666666666665|\n",
      "|  60| 3.3333333333333335|\n",
      "|   0| 3.4285714285714284|\n",
      "|   3| 3.5555555555555554|\n",
      "|  34| 3.5714285714285716|\n",
      "|  42| 3.6666666666666665|\n",
      "|  22| 3.6666666666666665|\n",
      "|   2| 3.7777777777777777|\n",
      "+----+-------------------+\n",
      "only showing top 10 rows\n",
      "\n"
     ]
    }
   ],
   "source": [
    "# top ten producty by rating\n",
    "amazon_cleaned.groupby('name').\\\n",
    "agg({'reviews_rating': 'mean'}).\\\n",
    "orderBy('avg(reviews_rating)').show(10)\n",
    "# 2 and 22 have the best average rating"
   ]
  },
  {
   "cell_type": "code",
   "execution_count": 1642,
   "metadata": {},
   "outputs": [
    {
     "name": "stdout",
     "output_type": "stream",
     "text": [
      "62\n",
      "949\n"
     ]
    }
   ],
   "source": [
    "# there are 62 distinct products\n",
    "print(amazon_cleaned.select('name').distinct().count())\n",
    "\n",
    "# there are 949 distinct reviewers\n",
    "print(amazon_cleaned.select('reviews_username').distinct().count())\n"
   ]
  },
  {
   "cell_type": "markdown",
   "metadata": {},
   "source": [
    "The operations work. This indicates the data frame is intact."
   ]
  },
  {
   "cell_type": "markdown",
   "metadata": {},
   "source": [
    "### Get the RDD underlying data frame\n",
    "\n",
    "<p>Pyspark data frames are resilient distributed data structures\n",
    "and grounded on RDDs. This other than the Pandas data frames,\n",
    "which are in-memory locally on a single machine. (Of course\n",
    "the cluster here is for practical reasons also locally \n",
    "but can be easily distributed on many machines.</p> "
   ]
  },
  {
   "cell_type": "code",
   "execution_count": 1643,
   "metadata": {},
   "outputs": [
    {
     "name": "stdout",
     "output_type": "stream",
     "text": [
      "[Row(name=55, reviews_rating=5.0, reviews_username=151), Row(name=55, reviews_rating=5.0, reviews_username=618), Row(name=55, reviews_rating=4.0, reviews_username=722)]\n",
      "defaultdict(<class 'int'>, {55: 39, 52: 32, 30: 38, 51: 43, 17: 10, 25: 3, 18: 8, 4: 7, 41: 4, 20: 11, 29: 3, 27: 3, 33: 6, 26: 3, 57: 6, 56: 3, 39: 8, 15: 8, 45: 3, 38: 7, 32: 8, 34: 7, 58: 3, 14: 10, 28: 3, 35: 3, 54: 3, 44: 3, 53: 4, 48: 6, 36: 3, 31: 6, 19: 166, 11: 19, 2: 27, 47: 20, 3: 18, 42: 3, 5: 13, 10: 5, 40: 87, 16: 10, 6: 12, 43: 3, 9: 4, 59: 6, 13: 10, 7: 5, 49: 41, 8: 4, 37: 13, 46: 3, 12: 9, 50: 53, 24: 542, 60: 12, 0: 7, 22: 12, 21: 10, 23: 133, 61: 17, 1: 12})\n"
     ]
    }
   ],
   "source": [
    "amazon_cleaned_rdd_144 = amazon_cleaned.rdd\n",
    "print(amazon_cleaned_rdd_144.take(3))\n",
    "print(amazon_cleaned_rdd_144.countByKey())"
   ]
  },
  {
   "cell_type": "markdown",
   "metadata": {},
   "source": [
    "### Partions\n",
    "\n",
    "<p>are costly , but more partitions may make the \n",
    "the execution smoother.</p> "
   ]
  },
  {
   "cell_type": "code",
   "execution_count": 1644,
   "metadata": {},
   "outputs": [
    {
     "name": "stdout",
     "output_type": "stream",
     "text": [
      "2\n",
      "<class 'pyspark.rdd.RDD'>\n",
      "50\n"
     ]
    }
   ],
   "source": [
    "print(sc.defaultMinPartitions)\n",
    "\n",
    "amazon_cleaned_rdd = amazon_cleaned_rdd_144.repartition(50)\n",
    "\n",
    "print(type(amazon_cleaned_rdd))\n",
    "print(amazon_cleaned_rdd.getNumPartitions())"
   ]
  },
  {
   "cell_type": "markdown",
   "metadata": {},
   "source": [
    "### Machine Learning: Alternating Least Squares (ALS)\n",
    "\n",
    "<p>\n",
    "is an algorithm widely used for collaborative filtering.\n",
    "The aim is to find users with common interests (products, clubs, activities ...).\n",
    "Recommendations are based on the “birds of a feather flock together”-assumption that people who share an opinion on one topic are more likely to share again an opinion on another new independent topic than with a random third person.</p> \n",
    "<p>\n",
    "This assumption is plausible and is strong in people of one subculture\n",
    "like <a href=\"https://en.wikipedia.org/wiki/Emo\" target=\"_blank\">Emo</a> for example. Emo adherents are going to listen probably to similar music listened by other EMO-adherents. The assumption is then used to recommend something (music, products) to people, who are likely to share an opinion. Data sets with ratings on topics (good, bad music) are\n",
    "excellent for collaborative filtering. The two main types are:\n",
    "</p>\n",
    "\n",
    "<ul>\n",
    "<li>User-to-user: find users similar to the target user and recommends the user\n",
    "to the target user like in dating matchmaking.</li>\n",
    "<li>Item-to-item: items (science fiction books) of the target users are used to find similar\n",
    "items of user users and recommended to the target user.</li>\n",
    "</ul> \n",
    "\n",
    "<a href=\"https://en.wikipedia.org/wiki/Collaborative_filtering\" target=\"_blank\">Wikipedia</a> "
   ]
  },
  {
   "cell_type": "code",
   "execution_count": 1645,
   "metadata": {},
   "outputs": [
    {
     "name": "stdout",
     "output_type": "stream",
     "text": [
      "<class 'pyspark.rdd.PipelinedRDD'>\n",
      "[Rating(user=151, product=55, rating=5.0), Rating(user=618, product=55, rating=5.0), Rating(user=722, product=55, rating=4.0), Rating(user=215, product=55, rating=5.0), Rating(user=525, product=55, rating=5.0)]\n",
      "1580\n"
     ]
    }
   ],
   "source": [
    "# from pyspark.mllib.recommendation import Rating\n",
    "# keep only 'reviews_username', 'name', 'reviews_rating' in the model by using column index\n",
    "# amazon_split = amazon_cleaned.rdd.map(lambda l: l.split(','))\n",
    "# is not necessary because the data is allready split\n",
    "# this took me some hours to understand :-(\n",
    "\n",
    "amazon_features = \\\n",
    "amazon_cleaned.rdd.map(lambda row: Rating(int(row[2]), \n",
    "                                      int(row[0]), float(row[1])))\n",
    "\n",
    "print(type(amazon_features))\n",
    "print(amazon_features.take(5))\n",
    "print(amazon_features.count())"
   ]
  },
  {
   "cell_type": "markdown",
   "metadata": {},
   "source": [
    "### Create traning and test data"
   ]
  },
  {
   "cell_type": "code",
   "execution_count": 1646,
   "metadata": {},
   "outputs": [
    {
     "name": "stdout",
     "output_type": "stream",
     "text": [
      "<class 'pyspark.rdd.PipelinedRDD'>\n",
      "[Rating(user=151, product=55, rating=5.0), Rating(user=618, product=55, rating=5.0), Rating(user=722, product=55, rating=4.0)]\n"
     ]
    }
   ],
   "source": [
    "az_training_data, az_test_data = amazon_features.randomSplit([0.8, 0.2])\n",
    "\n",
    "print(type(training_data))\n",
    "print(training_data.take(3))"
   ]
  },
  {
   "cell_type": "markdown",
   "metadata": {},
   "source": [
    "#### Build the model"
   ]
  },
  {
   "cell_type": "code",
   "execution_count": 1647,
   "metadata": {},
   "outputs": [
    {
     "name": "stdout",
     "output_type": "stream",
     "text": [
      "<class 'pyspark.mllib.recommendation.MatrixFactorizationModel'>\n"
     ]
    }
   ],
   "source": [
    "az_model = ALS.train(az_training_data, rank=10, iterations=10)\n",
    "print(type(az_model))"
   ]
  },
  {
   "cell_type": "markdown",
   "metadata": {},
   "source": [
    "<p>\n",
    "This has created a MatrixFactorizationModel.\n",
    "\"A matrix factorisation model trained by regularized alternating least-squares.\" <a href=\"https://spark.apache.org/docs/latest/api/python/pyspark.mllib.html#pyspark.mllib.recommendation.ALS\" target=\"_blank\">pyspark.mllib.recommendation module</a>     \n",
    "</p> \n",
    "\n",
    "\n",
    "<p>\n",
    "\"Matrix factorization algorithms work by decomposing the user-item interaction matrix into the product of two lower dimensionality rectangular matrices.\" <a href=\"https://en.wikipedia.org/wiki/Matrix_factorization_(recommender_systems)\" target=\"_blank\">Wikipedia</a> \n",
    "</p>\n",
    "\n",
    "<p>\n",
    "<img src=\"colla_matrix.png\" alt=\"Smiley face\" height=\"250\" width=\"250\" align=\"left\"> \n",
    "</p> \n"
   ]
  },
  {
   "cell_type": "code",
   "execution_count": 1648,
   "metadata": {},
   "outputs": [
    {
     "name": "stdout",
     "output_type": "stream",
     "text": [
      "<class 'pyspark.rdd.PipelinedRDD'>\n",
      "[(215, 55), (67, 55), (722, 55), (516, 55), (485, 55)]\n"
     ]
    }
   ],
   "source": [
    "# test data without rating\n",
    "# rating is the third element in the subslists\n",
    "az_test_data_2 = az_test_data.map(lambda p: (p[0], p[1]))\n",
    "print(type(az_test_data_2))\n",
    "print(az_test_data_2.take(5))"
   ]
  },
  {
   "cell_type": "markdown",
   "metadata": {},
   "source": [
    "### Predictions"
   ]
  },
  {
   "cell_type": "code",
   "execution_count": 1649,
   "metadata": {},
   "outputs": [
    {
     "name": "stdout",
     "output_type": "stream",
     "text": [
      "<class 'pyspark.rdd.RDD'>\n",
      "[Rating(user=228, product=5, rating=1.6708327712292408), Rating(user=160, product=59, rating=2.8391087035836406), Rating(user=512, product=41, rating=5.0553072492379085), Rating(user=512, product=50, rating=4.163189203309809)]\n"
     ]
    }
   ],
   "source": [
    "# from pyspark.mllib.recommendation import ALS\n",
    "az_predict_ALS = ALS_model.predictAll(az_test_data_2)\n",
    "print(type(az_predict_ALS ))\n",
    "print(az_predict_ALS.take(4))\n",
    "# Rating(user=151, product=55, rating=5.0)"
   ]
  },
  {
   "cell_type": "markdown",
   "metadata": {},
   "source": [
    "### Model evaluation\n",
    "with Mean Square Error (MSE)"
   ]
  },
  {
   "cell_type": "code",
   "execution_count": 1650,
   "metadata": {},
   "outputs": [
    {
     "name": "stdout",
     "output_type": "stream",
     "text": [
      "<class 'pyspark.rdd.PipelinedRDD'>\n",
      "1580\n",
      "[((151, 55), 5.0), ((618, 55), 5.0), ((722, 55), 4.0), ((215, 55), 5.0), ((525, 55), 5.0), ((410, 55), 5.0), ((618, 55), 5.0), ((67, 55), 5.0), ((151, 55), 5.0), ((722, 55), 5.0)]\n"
     ]
    }
   ],
   "source": [
    "# Prepare ratings data\n",
    "# make a tuple of ((user, product), rating))\n",
    "# (r[0], r[1]) is enclosed as one tuple\n",
    "# r[2] is the rating\n",
    "az_ratings = amazon_features.map(lambda row: ((row[0], row[1]), row[2]))\n",
    "\n",
    "print(type(az_ratings))\n",
    "print(az_ratings.count())\n",
    "print(az_ratings.take(10))\n",
    "# Rating(user=151, product=55, rating=5.0)"
   ]
  },
  {
   "cell_type": "code",
   "execution_count": 1651,
   "metadata": {},
   "outputs": [
    {
     "name": "stdout",
     "output_type": "stream",
     "text": [
      "<class 'pyspark.rdd.PipelinedRDD'>\n",
      "213\n",
      "[((228, 5), 1.6708327712292408), ((160, 59), 2.8391087035836406), ((512, 41), 5.0553072492379085), ((512, 50), 4.163189203309809), ((332, 13), 3.197069868597138), ((112, 6), 3.083635576714171), ((420, 6), 5.163786035431643), ((300, 24), 4.989249822352054), ((184, 50), 5.076135219420555), ((632, 52), 3.6648165915944086)]\n"
     ]
    }
   ],
   "source": [
    "az_predictions_ALS_2 = \\\n",
    "az_predict_ALS.map(lambda row: ((row[0], row[1]), row[2]))\n",
    "\n",
    "print(type(az_predictions_ALS_2 ))\n",
    "print(az_predictions_ALS_2.count())\n",
    "print(az_predictions_ALS_2.take(10))"
   ]
  },
  {
   "cell_type": "code",
   "execution_count": 1652,
   "metadata": {},
   "outputs": [
    {
     "name": "stdout",
     "output_type": "stream",
     "text": [
      "<class 'pyspark.rdd.PipelinedRDD'>\n",
      "[((215, 55), (5.0, 1.836165650806469)), ((516, 55), (5.0, 2.129299764938258)), ((157, 52), (5.0, 3.391673885894876)), ((512, 41), (5.0, 5.0553072492379085)), ((239, 20), (5.0, 2.444606221585733))]\n",
      "1407\n"
     ]
    }
   ],
   "source": [
    "az_predict_observe = az_ratings.join(az_predictions_ALS_2)\n",
    "\n",
    "print(type(az_predict_observe))\n",
    "print(az_predict_observe.take(5))\n",
    "print(az_predict_observe.count())"
   ]
  },
  {
   "cell_type": "markdown",
   "metadata": {},
   "source": [
    "The observed values are the first elements in the second tuples.\n",
    "The predicted values are the second elements in the second tuples.\n",
    "Observed and predicted values are needed for the MSE."
   ]
  },
  {
   "cell_type": "markdown",
   "metadata": {},
   "source": [
    "#### Understanding the joined RDDs:\n",
    "\n",
    "joined RDDs: ((115, 19), (4.0, 2.4111713656380083)): a row consists of two tuples within one higher tuple<br>\n",
    "observed ratings: r[1][0] = (4.0) = first tuple, first element of row<br>\n",
    "predicted ratings: r[1][1] = (2.4111713656380083) = first tuple, second element of row"
   ]
  },
  {
   "cell_type": "code",
   "execution_count": 1653,
   "metadata": {},
   "outputs": [
    {
     "name": "stdout",
     "output_type": "stream",
     "text": [
      "MSE_az - test  = 2.80020\n"
     ]
    }
   ],
   "source": [
    "# MSE: mean squared error\n",
    "MSE_az = az_predict_observe.map(lambda r: (r[1][0] - r[1][1])**2).mean()\n",
    "print(\"MSE_az - test  = {:.5f}\".format(MSE_az))\n"
   ]
  },
  {
   "cell_type": "code",
   "execution_count": 1654,
   "metadata": {},
   "outputs": [
    {
     "name": "stdout",
     "output_type": "stream",
     "text": [
      "RootMSE_az - test  = 1.67338\n"
     ]
    }
   ],
   "source": [
    "RootMSE_az = np.sqrt(MSE_az)\n",
    "print(\"RootMSE_az - test  = {:.5f}\".format(RootMSE_az))"
   ]
  },
  {
   "cell_type": "markdown",
   "metadata": {},
   "source": [
    "### Applying  recommendation methods based on the MatrixFactorizationModel\n",
    "\n",
    "<p>, a matrix factorisation model trained by regularized alternating \n",
    "least-squares. The explanations are taken from the documentation.</p> \n",
    "<a href=\"https://spark.apache.org/docs/latest/api/python/pyspark.mllib.html#pyspark.mllib.recommendation.ALS\" target=\"_blank\">\n",
    "pyspark.mllib package</a> \n",
    "<p>The methods are resulting in recommendations for products and\n",
    "users or clarify the relationship between both.</p> "
   ]
  },
  {
   "cell_type": "code",
   "execution_count": 1655,
   "metadata": {},
   "outputs": [],
   "source": [
    "# from pyspark.mllib.recommendation import MatrixFactorizationModel\n",
    "# Save and load model\n",
    "# az_model.save(sc, \"amazon_CollaborativeFilter\")\n"
   ]
  },
  {
   "cell_type": "code",
   "execution_count": 1656,
   "metadata": {},
   "outputs": [
    {
     "name": "stdout",
     "output_type": "stream",
     "text": [
      "<pyspark.mllib.recommendation.MatrixFactorizationModel object at 0x0000020B96063D08>\n"
     ]
    }
   ],
   "source": [
    "# load the MatrixFactorizationModel from disc\n",
    "model_factor_az = \\\n",
    "MatrixFactorizationModel.load(sc, \"amazon_CollaborativeFilter\")\n",
    "\n",
    "print(model_factorized)"
   ]
  },
  {
   "cell_type": "markdown",
   "metadata": {},
   "source": [
    "#### Predicts rating for a given user and product"
   ]
  },
  {
   "cell_type": "code",
   "execution_count": 1657,
   "metadata": {},
   "outputs": [
    {
     "name": "stdout",
     "output_type": "stream",
     "text": [
      "4.998983703732036\n",
      "2.9979585995232982\n",
      "5.000213969202477\n",
      "4.995763093459676\n"
     ]
    }
   ],
   "source": [
    "# predict(user, product)\n",
    "print(model_factor_az.predict(151, 55))\n",
    "print(model_factor_az.predict(189, 4))\n",
    "print(model_factor_az.predict(199, 27))\n",
    "print(model_factor_az.predict(337, 41))"
   ]
  },
  {
   "cell_type": "markdown",
   "metadata": {},
   "source": [
    "#### productFeatures() \n",
    "returns a paired RDD, where the first element \n",
    "is the product and the second is an array of features corresponding \n",
    "to that product."
   ]
  },
  {
   "cell_type": "code",
   "execution_count": 1658,
   "metadata": {},
   "outputs": [
    {
     "name": "stdout",
     "output_type": "stream",
     "text": [
      "PythonRDD[10336] at RDD at PythonRDD.scala:53\n",
      "<class 'pyspark.rdd.PipelinedRDD'>\n",
      "[(1, array('d', [-0.7492132782936096, 0.5889517068862915, 2.4385461807250977, -0.27534055709838867, 3.2937707901000977, 0.1900889277458191, -0.2477518916130066, 0.3438398540019989, 0.2170984148979187, 1.3532295227050781]))]\n",
      "\n",
      "+---+--------------------+\n",
      "| _1|                  _2|\n",
      "+---+--------------------+\n",
      "|  1|[-0.7492132782936...|\n",
      "|  5|[-3.2143046855926...|\n",
      "|  9|[-1.2085622549057...|\n",
      "| 13|[-2.3477382659912...|\n",
      "| 17|[-2.3348147869110...|\n",
      "+---+--------------------+\n",
      "only showing top 5 rows\n",
      "\n"
     ]
    }
   ],
   "source": [
    "az_productFeatures = model_factor_az.productFeatures()\n",
    "\n",
    "print(az_productFeatures)\n",
    "print(type(az_productFeatures))\n",
    "\n",
    "# lazy evaluation\n",
    "# the RDD is not executed \n",
    "# untill it is called with RDD-domain specific language\n",
    "print(az_productFeatures.take(1))\n",
    "print(\"\")\n",
    "\n",
    "# create a data frame\n",
    "az_productFeatures_rdd = sqlContext.createDataFrame(az_productFeatures)\n",
    "az_productFeatures_rdd.show(5)"
   ]
  },
  {
   "cell_type": "markdown",
   "metadata": {},
   "source": [
    "#### Rank \n",
    "for the features in this model."
   ]
  },
  {
   "cell_type": "code",
   "execution_count": 1659,
   "metadata": {},
   "outputs": [
    {
     "data": {
      "text/plain": [
       "10"
      ]
     },
     "execution_count": 1659,
     "metadata": {},
     "output_type": "execute_result"
    }
   ],
   "source": [
    "model_factor_az.rank"
   ]
  },
  {
   "cell_type": "markdown",
   "metadata": {},
   "source": [
    "#### recommendProducts(user, num)\n",
    "\n",
    "Recommends the top “num” number of products for a given user and returns \n",
    "a list of Rating objects sorted by the predicted rating in descending \n",
    "order. Very interesting method!"
   ]
  },
  {
   "cell_type": "code",
   "execution_count": 1660,
   "metadata": {},
   "outputs": [
    {
     "data": {
      "text/plain": [
       "[Rating(user=151, product=55, rating=4.998983703732036),\n",
       " Rating(user=151, product=41, rating=3.0886727559190623),\n",
       " Rating(user=151, product=36, rating=2.6350487794911586),\n",
       " Rating(user=151, product=53, rating=2.201333110695885),\n",
       " Rating(user=151, product=7, rating=2.1876447023739836),\n",
       " Rating(user=151, product=56, rating=2.1719924865693696),\n",
       " Rating(user=151, product=57, rating=2.1719924865693696),\n",
       " Rating(user=151, product=58, rating=2.1485576451809596),\n",
       " Rating(user=151, product=31, rating=2.139679002822483),\n",
       " Rating(user=151, product=35, rating=2.0634408632069077)]"
      ]
     },
     "execution_count": 1660,
     "metadata": {},
     "output_type": "execute_result"
    }
   ],
   "source": [
    "model_factor_az.recommendProducts(151, 10)"
   ]
  },
  {
   "cell_type": "markdown",
   "metadata": {},
   "source": [
    "#### recommendProductsForUsers(num)\n",
    "Recommends the top “num” number of products for all users. \n",
    "The number of recommendations returned per user may be less than “num”.\n"
   ]
  },
  {
   "cell_type": "code",
   "execution_count": 1661,
   "metadata": {},
   "outputs": [
    {
     "name": "stdout",
     "output_type": "stream",
     "text": [
      "<class 'pyspark.rdd.RDD'>\n",
      "782\n",
      "[(784, (Rating(user=784, product=2, rating=4.998772134219841), Rating(user=784, product=53, rating=3.6954384357567096), Rating(user=784, product=3, rating=2.8224361798933018), Rating(user=784, product=5, rating=2.771749430136948), Rating(user=784, product=9, rating=2.4586953144096917)))]\n"
     ]
    }
   ],
   "source": [
    "az_ProductsForUsers = model_factor_az.recommendProductsForUsers(5)\n",
    "\n",
    "print(type(az_ProductsForUsers))\n",
    "print(az_ProductsForUsers.count())\n",
    "print(az_ProductsForUsers.take(1))"
   ]
  },
  {
   "cell_type": "markdown",
   "metadata": {},
   "source": [
    "#### recommendUsers(product, num)\n",
    "\n",
    "Recommends the top “num” number of users for a given product \n",
    "and returns a list of Rating objects sorted by the predicted \n",
    "rating in descending order."
   ]
  },
  {
   "cell_type": "code",
   "execution_count": 1662,
   "metadata": {},
   "outputs": [
    {
     "name": "stdout",
     "output_type": "stream",
     "text": [
      "<class 'list'>\n",
      "[Rating(user=87, product=5, rating=6.38639662938143), Rating(user=107, product=5, rating=6.38639662938143), Rating(user=103, product=5, rating=6.38639662938143), Rating(user=71, product=5, rating=6.38639662938143), Rating(user=3, product=5, rating=6.38639662938143)]\n"
     ]
    }
   ],
   "source": [
    "az_recommendUsers = model_factor_az.recommendUsers(5, 5)\n",
    "\n",
    "print(type(az_recommendUsers))\n",
    "print(az_recommendUsers[:10])"
   ]
  },
  {
   "cell_type": "markdown",
   "metadata": {},
   "source": [
    "#### userFeatures()\n",
    "\n",
    "Returns a paired RDD, where the first element is the user and the second is an array of features corresponding to that user."
   ]
  },
  {
   "cell_type": "code",
   "execution_count": 1663,
   "metadata": {},
   "outputs": [
    {
     "name": "stdout",
     "output_type": "stream",
     "text": [
      "PythonRDD[10367] at RDD at PythonRDD.scala:53\n",
      "<class 'pyspark.rdd.PipelinedRDD'>\n",
      "782\n",
      "[(0, array('d', [-1.3431980609893799, -1.3617494106292725, 1.9264732599258423, 0.43271777033805847, 0.5598254203796387, 0.8303602337837219, -0.8580541610717773, 0.8065422773361206, -0.4410060942173004, 1.450345516204834]))]\n"
     ]
    }
   ],
   "source": [
    "az_userFeatures = model_factor_az.userFeatures()\n",
    "\n",
    "print(az_userFeatures)\n",
    "print(type(az_userFeatures))\n",
    "print(az_userFeatures.count())\n",
    "print(az_userFeatures.take(1))"
   ]
  },
  {
   "cell_type": "markdown",
   "metadata": {},
   "source": [
    "# Movie rating data set"
   ]
  },
  {
   "cell_type": "code",
   "execution_count": 1664,
   "metadata": {},
   "outputs": [],
   "source": [
    "movie_schema = \\\n",
    "StructType([\n",
    "    StructField(\"userID\", IntegerType(), True),\n",
    "    StructField(\"movieID\", IntegerType(), True),\n",
    "    StructField(\"rating\", FloatType(), True),\n",
    "    StructField(\"timestamp\", IntegerType(), True)\n",
    "])"
   ]
  },
  {
   "cell_type": "markdown",
   "metadata": {},
   "source": [
    "### Import with csv"
   ]
  },
  {
   "cell_type": "code",
   "execution_count": 1665,
   "metadata": {},
   "outputs": [],
   "source": [
    "movie = \\\n",
    "spark.read.csv(\"movieratings.csv\", \n",
    "               inferSchema=True, \n",
    "               header=False,\n",
    "               schema=movie_schema)"
   ]
  },
  {
   "cell_type": "code",
   "execution_count": 1666,
   "metadata": {},
   "outputs": [
    {
     "name": "stdout",
     "output_type": "stream",
     "text": [
      "<class 'pyspark.sql.dataframe.DataFrame'>\n",
      "\n",
      "['userID', 'movieID', 'rating', 'timestamp']\n",
      "\n",
      "shape: rows: 100004, columns: 4\n",
      "+------+-------+------+----------+\n",
      "|userID|movieID|rating| timestamp|\n",
      "+------+-------+------+----------+\n",
      "|     1|     31|   2.5|1260759144|\n",
      "|     1|   1029|   3.0|1260759179|\n",
      "|     1|   1061|   3.0|1260759182|\n",
      "+------+-------+------+----------+\n",
      "only showing top 3 rows\n",
      "\n",
      "None\n"
     ]
    }
   ],
   "source": [
    "print(type(movie))\n",
    "print(\"\")\n",
    "print(movie.columns)\n",
    "print(\"\")\n",
    "print(\"shape: rows: {}, columns: {}\".\\\n",
    "      format(movie.count(), len(movie.columns)))\n",
    "print(movie.show(3))"
   ]
  },
  {
   "cell_type": "code",
   "execution_count": 1667,
   "metadata": {},
   "outputs": [
    {
     "name": "stdout",
     "output_type": "stream",
     "text": [
      "100004 4\n"
     ]
    }
   ],
   "source": [
    "print(movie.count(), len(movie.columns))"
   ]
  },
  {
   "cell_type": "markdown",
   "metadata": {},
   "source": [
    "### Import as text file"
   ]
  },
  {
   "cell_type": "code",
   "execution_count": 1668,
   "metadata": {
    "scrolled": true
   },
   "outputs": [
    {
     "name": "stdout",
     "output_type": "stream",
     "text": [
      "<class 'pyspark.rdd.RDD'>\n",
      "['1,31,2.5,1260759144', '1,1029,3.0,1260759179', '1,1061,3.0,1260759182', '1,1129,2.0,1260759185', '1,1172,4.0,1260759205']\n",
      "100004\n"
     ]
    }
   ],
   "source": [
    "movieratings_rdd=sc.textFile(\"movieratings.csv\")\n",
    "print(type(movieratings_rdd))\n",
    "print(movieratings_rdd.take(5))\n",
    "print(movieratings_rdd.count())"
   ]
  },
  {
   "cell_type": "markdown",
   "metadata": {},
   "source": [
    "### Data preparation: using the map() function\n",
    "\n",
    "<p>\n",
    "applies the input (built in, defined, lambda) function to each item of a given iterable\n",
    "object like lists, tuples, pandas series and returns a map iterator.\n",
    "</p> \n",
    "\n",
    "<p>\n",
    "Double all numbers using map and lambda<br>  \n",
    "numbers = (1, 2, 3, 4)<br>\n",
    "result = map(lambda x: x + x, numbers)<br> \n",
    "print(list(result))<br>\n",
    "{2, 4, 6, 8}\n",
    "\n",
    "</p> \n",
    "\n",
    "\n",
    "<a href=\"https://www.geeksforgeeks.org/python-map-function/\" target=\"_blank\">Geeks</a> \n",
    "\n",
    "<p>\n",
    "The Alternating Least Squares (ALS) does only need the three variables\n",
    "user (reviews username), product (name) and rating (reviews_rating). \n",
    "</p> \n"
   ]
  },
  {
   "cell_type": "code",
   "execution_count": 1669,
   "metadata": {},
   "outputs": [
    {
     "name": "stdout",
     "output_type": "stream",
     "text": [
      "<class 'pyspark.rdd.PipelinedRDD'>\n",
      "[['1', '31', '2.5', '1260759144'], ['1', '1029', '3.0', '1260759179'], ['1', '1061', '3.0', '1260759182']]\n"
     ]
    }
   ],
   "source": [
    "movie_split = movieratings_rdd.map(lambda row: row.split(',') )\n",
    "print(type(movie_split))\n",
    "print(movie_split.take(3))"
   ]
  },
  {
   "cell_type": "code",
   "execution_count": 1670,
   "metadata": {},
   "outputs": [
    {
     "name": "stdout",
     "output_type": "stream",
     "text": [
      "<class 'pyspark.rdd.PipelinedRDD'>\n",
      "[Rating(user=1, product=31, rating=2.5), Rating(user=1, product=1029, rating=3.0), Rating(user=1, product=1061, rating=3.0)]\n"
     ]
    }
   ],
   "source": [
    "# from pyspark.mllib.recommendation import Rating\n",
    "# keep only 'userID', 'movieID', 'rating' in the model by using column index\n",
    "movieratings2 = movie_split.map(lambda line: \n",
    "                                Rating(int(line[0]), int(line[1]), float(line[2])))\n",
    "print(type(movieratings2))\n",
    "print(movieratings2.take(3))\n"
   ]
  },
  {
   "cell_type": "markdown",
   "metadata": {},
   "source": [
    "## Machine Learning"
   ]
  },
  {
   "cell_type": "markdown",
   "metadata": {},
   "source": [
    "### Create traning and test data"
   ]
  },
  {
   "cell_type": "code",
   "execution_count": 1671,
   "metadata": {},
   "outputs": [],
   "source": [
    "training, test = movieratings2.randomSplit([0.8, 0.2])\n"
   ]
  },
  {
   "cell_type": "markdown",
   "metadata": {},
   "source": [
    "Check training data."
   ]
  },
  {
   "cell_type": "code",
   "execution_count": 1672,
   "metadata": {},
   "outputs": [
    {
     "name": "stdout",
     "output_type": "stream",
     "text": [
      "[Rating(user=1, product=31, rating=2.5), Rating(user=1, product=1029, rating=3.0)]\n",
      "80089\n",
      "0.8008579656813728\n"
     ]
    }
   ],
   "source": [
    "print(training.take(2))\n",
    "print(training.count())\n",
    "print(training.count()/(training.count() + test.count()))"
   ]
  },
  {
   "cell_type": "markdown",
   "metadata": {},
   "source": [
    "Check test data."
   ]
  },
  {
   "cell_type": "code",
   "execution_count": 1673,
   "metadata": {},
   "outputs": [
    {
     "name": "stdout",
     "output_type": "stream",
     "text": [
      "[Rating(user=1, product=1061, rating=3.0), Rating(user=2, product=10, rating=4.0)]\n",
      "19915\n",
      "0.19914203431862726\n"
     ]
    }
   ],
   "source": [
    "print(test.take(2))\n",
    "print(test.count())\n",
    "print(test.count()/(training.count() + test.count()))"
   ]
  },
  {
   "cell_type": "markdown",
   "metadata": {},
   "source": [
    "### Build and train the model"
   ]
  },
  {
   "cell_type": "code",
   "execution_count": 1674,
   "metadata": {},
   "outputs": [
    {
     "name": "stdout",
     "output_type": "stream",
     "text": [
      "<pyspark.mllib.recommendation.MatrixFactorizationModel object at 0x0000020B96BF5CC8>\n"
     ]
    }
   ],
   "source": [
    "ALS_model_movie = ALS.train(training, rank=10, iterations=10)\n",
    "print(ALS_model_movie )"
   ]
  },
  {
   "cell_type": "markdown",
   "metadata": {},
   "source": [
    "This has created a MatrixFactorizationModel.\n",
    "\"A matrix factorisation model trained by regularized alternating least-squares.\""
   ]
  },
  {
   "cell_type": "code",
   "execution_count": 1675,
   "metadata": {},
   "outputs": [
    {
     "name": "stdout",
     "output_type": "stream",
     "text": [
      "<class 'pyspark.rdd.PipelinedRDD'>\n",
      "[(1, 1061), (2, 10)]\n"
     ]
    }
   ],
   "source": [
    "# test data without rating\n",
    "# rating is the third element in the subslists\n",
    "test_2 = test.map(lambda p: (p[0], p[1]))\n",
    "print(type(test_2))\n",
    "print(test_2.take(2))"
   ]
  },
  {
   "cell_type": "markdown",
   "metadata": {},
   "source": [
    "### Predictions"
   ]
  },
  {
   "cell_type": "code",
   "execution_count": 1676,
   "metadata": {},
   "outputs": [
    {
     "name": "stdout",
     "output_type": "stream",
     "text": [
      "<class 'pyspark.rdd.RDD'>\n",
      "[Rating(user=96, product=1084, rating=4.312199885082958), Rating(user=336, product=1084, rating=0.8873966962563092)]\n"
     ]
    }
   ],
   "source": [
    "predictions_ALS = ALS_model_movie.predictAll(test_2)\n",
    "print(type(predictions_ALS ))\n",
    "print(predictions_ALS.take(2))"
   ]
  },
  {
   "cell_type": "markdown",
   "metadata": {},
   "source": [
    "### Model evaluation\n",
    "with Mean Square Error (MSE)"
   ]
  },
  {
   "cell_type": "code",
   "execution_count": 1677,
   "metadata": {},
   "outputs": [
    {
     "name": "stdout",
     "output_type": "stream",
     "text": [
      "<class 'pyspark.rdd.PipelinedRDD'>\n",
      "100004\n",
      "[((1, 31), 2.5), ((1, 1029), 3.0), ((1, 1061), 3.0), ((1, 1129), 2.0), ((1, 1172), 4.0), ((1, 1263), 2.0), ((1, 1287), 2.0), ((1, 1293), 2.0), ((1, 1339), 3.5), ((1, 1343), 2.0)]\n"
     ]
    }
   ],
   "source": [
    "# Prepare ratings data\n",
    "# make a tuple of ((user, product), rating))\n",
    "# (r[0], r[1]) is enclosed as one tuple\n",
    "# r[2] is the rating\n",
    "ratings_2 = movieratings2.map(lambda row: ((row[0], row[1]), row[2]))\n",
    "\n",
    "print(type(ratings_2))\n",
    "print(ratings_2.count())\n",
    "print(ratings_2.take(10))"
   ]
  },
  {
   "cell_type": "code",
   "execution_count": 1678,
   "metadata": {},
   "outputs": [
    {
     "name": "stdout",
     "output_type": "stream",
     "text": [
      "<class 'pyspark.rdd.PipelinedRDD'>\n",
      "19186\n",
      "[((96, 1084), 4.312199885082958), ((336, 1084), 0.8873966962563092), ((468, 1084), 3.6153357894736415), ((580, 1084), 3.5031394935480726), ((65, 1084), 4.988291411073068), ((561, 1084), 3.0767459739544063), ((358, 1084), 5.312100156050451), ((19, 1084), 4.119091210791759), ((195, 1084), 3.6548405465756675), ((431, 1084), 4.516999618857749)]\n"
     ]
    }
   ],
   "source": [
    "predictions_ALS_2 = \\\n",
    "predictions_ALS.map(lambda row: ((row[0], row[1]), row[2]))\n",
    "\n",
    "print(type(predictions_ALS_2))\n",
    "print(predictions_ALS_2.count())\n",
    "print(predictions_ALS_2.take(10))"
   ]
  },
  {
   "cell_type": "code",
   "execution_count": 1679,
   "metadata": {},
   "outputs": [
    {
     "name": "stdout",
     "output_type": "stream",
     "text": [
      "<class 'pyspark.rdd.PipelinedRDD'>\n",
      "[((2, 10), (4.0, 3.938003923827254)), ((2, 616), (3.0, 3.009919624501458)), ((3, 247), (3.5, 4.642822112077839)), ((3, 44191), (3.5, 4.776063493329726)), ((4, 260), (5.0, 5.118191749456727))]\n",
      "19186\n"
     ]
    }
   ],
   "source": [
    "predict_observe = ratings_2.join(predictions_ALS_2)\n",
    "\n",
    "print(type(predict_observe))\n",
    "print(predict_observe.take(5))\n",
    "print(predict_observe.count())"
   ]
  },
  {
   "cell_type": "markdown",
   "metadata": {},
   "source": [
    "#### Understanding the joined RDDs:\n",
    "joined RDDs: ((2, 186), (3.0, 186)): a row consists of two tuples within one higher tuple<br>\n",
    "observed ratings: r[1][0] = (2, 186) = first tuple, first sub tuple of row<br>\n",
    "predicted ratings: r[1][1] = (3.0, 186) = first tuple, second sub tuple of row"
   ]
  },
  {
   "cell_type": "code",
   "execution_count": 1680,
   "metadata": {},
   "outputs": [
    {
     "name": "stdout",
     "output_type": "stream",
     "text": [
      "MSE - test date = 1.38652\n",
      "RSME - test date = 1.17751\n"
     ]
    }
   ],
   "source": [
    "# MSE: mean squared error\n",
    "MSE = predict_observe.map(lambda r: (r[1][0] - r[1][1])**2).mean()\n",
    "print(\"MSE - test date = {:.5f}\".format(MSE))\n",
    "RSME = np.sqrt(MSE)\n",
    "print(\"RSME - test date = {:.5f}\".format(RSME))"
   ]
  },
  {
   "cell_type": "markdown",
   "metadata": {},
   "source": [
    "### Applying  recommendation methods based on the MatrixFactorizationModel"
   ]
  },
  {
   "cell_type": "code",
   "execution_count": 1681,
   "metadata": {},
   "outputs": [],
   "source": [
    "# save the model to disc\n",
    "# ALS_model_movie.save(sc, \"movies_CollaborativeFilter\")"
   ]
  },
  {
   "cell_type": "code",
   "execution_count": 1682,
   "metadata": {},
   "outputs": [
    {
     "name": "stdout",
     "output_type": "stream",
     "text": [
      "<pyspark.mllib.recommendation.MatrixFactorizationModel object at 0x0000020B96063D08>\n"
     ]
    }
   ],
   "source": [
    "model_factor_az = \\\n",
    "MatrixFactorizationModel.load(sc, \"amazon_CollaborativeFilter\")\n",
    "\n",
    "print(model_factorized)"
   ]
  },
  {
   "cell_type": "code",
   "execution_count": 1683,
   "metadata": {},
   "outputs": [
    {
     "name": "stdout",
     "output_type": "stream",
     "text": [
      "<pyspark.mllib.recommendation.MatrixFactorizationModel object at 0x0000020B960ECCC8>\n"
     ]
    }
   ],
   "source": [
    "model_factor_movie = \\\n",
    "MatrixFactorizationModel.load(sc, \"movies_CollaborativeFilter\")\n",
    "\n",
    "print(model_factor_movie)"
   ]
  },
  {
   "cell_type": "code",
   "execution_count": null,
   "metadata": {},
   "outputs": [],
   "source": []
  },
  {
   "cell_type": "markdown",
   "metadata": {},
   "source": [
    "#### Predicts rating for a given user and product"
   ]
  },
  {
   "cell_type": "code",
   "execution_count": 1684,
   "metadata": {},
   "outputs": [
    {
     "name": "stdout",
     "output_type": "stream",
     "text": [
      "-0.5305107055885454\n",
      "2.9785154512825835\n",
      "2.9610094627004186\n",
      "1.5410390015943136\n"
     ]
    }
   ],
   "source": [
    "# predict(user, product)\n",
    "print(model_factor_movie.predict(151, 55))\n",
    "print(model_factor_movie.predict(189, 4))\n",
    "print(model_factor_movie.predict(199, 27))\n",
    "print(model_factor_movie.predict(337, 41))"
   ]
  },
  {
   "cell_type": "markdown",
   "metadata": {},
   "source": [
    "#### productFeatures() \n",
    "returns a paired RDD, where the first element \n",
    "is the product and the second is an array of features corresponding \n",
    "to that product."
   ]
  },
  {
   "cell_type": "code",
   "execution_count": 1685,
   "metadata": {},
   "outputs": [
    {
     "name": "stdout",
     "output_type": "stream",
     "text": [
      "PythonRDD[10700] at RDD at PythonRDD.scala:53\n",
      "<class 'pyspark.rdd.PipelinedRDD'>\n",
      "[(4, array('d', [0.758673906326294, 0.41261497139930725, 1.2937519550323486, -0.4945254921913147, -1.0534710884094238, -0.5077402591705322, 0.15206055343151093, 1.8800853490829468, -1.7657924890518188, 0.2994782626628876]))]\n",
      "\n",
      "+---+--------------------+\n",
      "| _1|                  _2|\n",
      "+---+--------------------+\n",
      "|  4|[0.75867390632629...|\n",
      "|  8|[0.62955826520919...|\n",
      "| 12|[0.76855647563934...|\n",
      "| 16|[-0.1294945776462...|\n",
      "| 20|[-0.1549502015113...|\n",
      "+---+--------------------+\n",
      "only showing top 5 rows\n",
      "\n"
     ]
    }
   ],
   "source": [
    "movie_productFeatures = model_factor_movie.productFeatures()\n",
    "\n",
    "print(movie_productFeatures)\n",
    "print(type(movie_productFeatures))\n",
    "\n",
    "# lazy evaluation\n",
    "# the RDD is not executed \n",
    "# untill it is called with RDD-domain specific language\n",
    "print(movie_productFeatures.take(1))\n",
    "print(\"\")\n",
    "\n",
    "# create a data frame\n",
    "movie_productFeatures_rdd = sqlContext.createDataFrame(movie_productFeatures)\n",
    "movie_productFeatures_rdd.show(5)"
   ]
  },
  {
   "cell_type": "markdown",
   "metadata": {},
   "source": [
    "#### Rank \n",
    "for the features in this model."
   ]
  },
  {
   "cell_type": "code",
   "execution_count": 1686,
   "metadata": {},
   "outputs": [
    {
     "data": {
      "text/plain": [
       "10"
      ]
     },
     "execution_count": 1686,
     "metadata": {},
     "output_type": "execute_result"
    }
   ],
   "source": [
    "model_factor_movie.rank"
   ]
  },
  {
   "cell_type": "markdown",
   "metadata": {},
   "source": [
    "#### recommendProducts(user, num)\n",
    "\n",
    "Recommends the top “num” number of products for a given user and returns \n",
    "a list of Rating objects sorted by the predicted rating in descending \n",
    "order. Very interesting method!"
   ]
  },
  {
   "cell_type": "code",
   "execution_count": 1687,
   "metadata": {},
   "outputs": [
    {
     "data": {
      "text/plain": [
       "[Rating(user=151, product=6216, rating=8.780625843849302),\n",
       " Rating(user=151, product=67255, rating=8.263079469169764),\n",
       " Rating(user=151, product=2594, rating=8.207744009114792),\n",
       " Rating(user=151, product=241, rating=8.155969994234924),\n",
       " Rating(user=151, product=2068, rating=7.97340487251423),\n",
       " Rating(user=151, product=1303, rating=7.655566405781084),\n",
       " Rating(user=151, product=1298, rating=7.614474131749882),\n",
       " Rating(user=151, product=81229, rating=7.553176311106911),\n",
       " Rating(user=151, product=54328, rating=7.416590857971171),\n",
       " Rating(user=151, product=81932, rating=7.363462460560465)]"
      ]
     },
     "execution_count": 1687,
     "metadata": {},
     "output_type": "execute_result"
    }
   ],
   "source": [
    "model_factor_movie.recommendProducts(151, 10)"
   ]
  },
  {
   "cell_type": "markdown",
   "metadata": {},
   "source": [
    "#### recommendProductsForUsers(num)\n",
    "Recommends the top “num” number of products for all users. \n",
    "The number of recommendations returned per user may be less than “num”.\n"
   ]
  },
  {
   "cell_type": "code",
   "execution_count": 1688,
   "metadata": {},
   "outputs": [
    {
     "name": "stdout",
     "output_type": "stream",
     "text": [
      "<class 'pyspark.rdd.RDD'>\n",
      "671\n",
      "[(224, (Rating(user=224, product=2356, rating=6.818201658432476), Rating(user=224, product=4914, rating=6.625582218729222), Rating(user=224, product=206, rating=6.568034085325149), Rating(user=224, product=1209, rating=6.470799745399702), Rating(user=224, product=48304, rating=6.356369730594359)))]\n"
     ]
    }
   ],
   "source": [
    "movie_ProductsForUsers = model_factor_movie.recommendProductsForUsers(5)\n",
    "\n",
    "print(type(movie_ProductsForUsers))\n",
    "print(movie_ProductsForUsers.count())\n",
    "print(movie_ProductsForUsers.take(1))"
   ]
  },
  {
   "cell_type": "markdown",
   "metadata": {},
   "source": [
    "#### recommendUsers(product, num)\n",
    "\n",
    "Recommends the top “num” number of users for a given product \n",
    "and returns a list of Rating objects sorted by the predicted \n",
    "rating in descending order."
   ]
  },
  {
   "cell_type": "code",
   "execution_count": 1689,
   "metadata": {},
   "outputs": [
    {
     "name": "stdout",
     "output_type": "stream",
     "text": [
      "<class 'list'>\n",
      "[Rating(user=116, product=5, rating=6.129069655188282), Rating(user=356, product=5, rating=6.05763130399874), Rating(user=112, product=5, rating=5.793633893854906), Rating(user=484, product=5, rating=5.262734071675207), Rating(user=231, product=5, rating=5.241433764056254)]\n"
     ]
    }
   ],
   "source": [
    "movie_recommendUsers = model_factor_movie.recommendUsers(5, 5)\n",
    "\n",
    "print(type(movie_recommendUsers))\n",
    "print(movie_recommendUsers[:10])"
   ]
  },
  {
   "cell_type": "markdown",
   "metadata": {},
   "source": [
    "#### userFeatures()\n",
    "\n",
    "Returns a paired RDD, where the first element is the user and the second is an array of features corresponding to that user."
   ]
  },
  {
   "cell_type": "code",
   "execution_count": 1690,
   "metadata": {},
   "outputs": [
    {
     "name": "stdout",
     "output_type": "stream",
     "text": [
      "PythonRDD[10731] at RDD at PythonRDD.scala:53\n",
      "<class 'pyspark.rdd.PipelinedRDD'>\n",
      "671\n",
      "[(2, array('d', [0.2630573511123657, 0.6968069672584534, 0.8116001486778259, -0.29095345735549927, 0.00609039468690753, -0.9985482692718506, -0.42290565371513367, 0.7856487035751343, 0.6755891442298889, 0.6131017208099365]))]\n"
     ]
    }
   ],
   "source": [
    "movie_userFeatures = model_factor_movie.userFeatures()\n",
    "\n",
    "print(movie_userFeatures)\n",
    "print(type(movie_userFeatures))\n",
    "print(movie_userFeatures.count())\n",
    "print(movie_userFeatures.take(1))"
   ]
  },
  {
   "cell_type": "code",
   "execution_count": null,
   "metadata": {},
   "outputs": [],
   "source": []
  }
 ],
 "metadata": {
  "kernelspec": {
   "display_name": "Python 3",
   "language": "python",
   "name": "python3"
  },
  "language_info": {
   "codemirror_mode": {
    "name": "ipython",
    "version": 3
   },
   "file_extension": ".py",
   "mimetype": "text/x-python",
   "name": "python",
   "nbconvert_exporter": "python",
   "pygments_lexer": "ipython3",
   "version": "3.7.4"
  }
 },
 "nbformat": 4,
 "nbformat_minor": 2
}
